{
 "cells": [
  {
   "cell_type": "markdown",
   "id": "db02aa50",
   "metadata": {},
   "source": [
    "# Python On Resonance (PyOR)\n",
    "## Everybody can simulate NMR\n",
    "\n",
    "Author: Vineeth Thalakottoor \n",
    "\n",
    "Email: vineethfrancis.physics@gmail.com"
   ]
  },
  {
   "cell_type": "markdown",
   "id": "b74d74cf",
   "metadata": {},
   "source": [
    "## Tutorial 16: Product Operator Basis Part 2\n",
    "In this tutorial we will see how to make operator basis for three spin half particles."
   ]
  },
  {
   "cell_type": "markdown",
   "id": "eafe32d5",
   "metadata": {},
   "source": [
    "## Load Python packages and define path to the source file \"PythonOnResonance.py\""
   ]
  },
  {
   "cell_type": "code",
   "execution_count": 1,
   "id": "53564ee3",
   "metadata": {},
   "outputs": [],
   "source": [
    "pathSource = '/media/HD2/Vineeth/PostDoc_Simulations/Github/PyOR_v1.0/Source'"
   ]
  },
  {
   "cell_type": "code",
   "execution_count": 2,
   "id": "c383deb3",
   "metadata": {},
   "outputs": [
    {
     "data": {
      "text/html": [
       "<style>.container { width:100% !important; }</style>"
      ],
      "text/plain": [
       "<IPython.core.display.HTML object>"
      ]
     },
     "metadata": {},
     "output_type": "display_data"
    }
   ],
   "source": [
    "from IPython.display import display, HTML\n",
    "display(HTML(\"<style>.container { width:100% !important; }</style>\"))\n",
    "import sys\n",
    "sys.path.append(pathSource)\n",
    "\n",
    "import PythonOnResonance as PyOR\n",
    "\n",
    "import time\n",
    "import numpy as np\n",
    "import matplotlib.pyplot as plt\n",
    "from matplotlib import rc\n",
    "%matplotlib notebook\n",
    "import sympy as sp\n",
    "from sympy import *"
   ]
  },
  {
   "cell_type": "code",
   "execution_count": 3,
   "id": "5f6ca35c",
   "metadata": {},
   "outputs": [],
   "source": [
    "Slist1 = [1/2,1/2,1/2]\n",
    "hbarEQ1 = True\n",
    "System = PyOR.Numerical_MR(Slist1,hbarEQ1)"
   ]
  },
  {
   "cell_type": "code",
   "execution_count": 4,
   "id": "4706a7bb",
   "metadata": {},
   "outputs": [],
   "source": [
    "\"\"\"\n",
    "Generate Spin Operators\n",
    "\"\"\";\n",
    "\n",
    "System = PyOR.Numerical_MR(Slist1,hbarEQ1)\n",
    "\n",
    "\"\"\"\n",
    "Sx, Sy and Sz Operators\n",
    "\"\"\";\n",
    "Sx,Sy,Sz = System.SpinOperator()\n",
    "\n",
    "\"\"\"\n",
    "S+ and S- Operators\n",
    "\"\"\";\n",
    "Sp,Sm = System.PMoperators(Sx,Sy)"
   ]
  },
  {
   "cell_type": "code",
   "execution_count": 5,
   "id": "f44bbcce",
   "metadata": {},
   "outputs": [
    {
     "name": "stdout",
     "output_type": "stream",
     "text": [
      "Coherence Order:  [0, -1, 0, 1]\n",
      "LM state:  [(0, 0), (1, -1), (1, 0), (1, 1)]\n"
     ]
    }
   ],
   "source": [
    "\"\"\"\n",
    "Polarization Operator Basis for single spin half particle\n",
    "let S = 1/2\n",
    "\"\"\";\n",
    "\n",
    "pol_basis_half, Coherence_order, LM_state = System.Polarization_OpBasis(1/2)"
   ]
  },
  {
   "cell_type": "code",
   "execution_count": 6,
   "id": "c864240e",
   "metadata": {},
   "outputs": [],
   "source": [
    "\"\"\"\n",
    "First make product operator basis for two spin half particle and then with the third, Spin 1 -> I, Spin 2 -> S and Spin 3 -> R\n",
    "\"\"\"\n",
    "\n",
    "Coh_order = [0,-1, 0, 1]\n",
    "Dic_1 = [\"E\",\"I-\",\"Iz\",\"I+\"]\n",
    "Dic_2 = [\"E\",\"S-\",\"Sz\",\"S+\"]\n",
    "Dic_3 = [\"E\",\"R-\",\"Rz\",\"R+\"]\n",
    "\n",
    "\"\"\"\n",
    "Sorting options: 'normal', 'negative to positive', 'zero to high'\n",
    "\"\"\"\n",
    "\n",
    "sort = 'negative to positive' \n",
    "indexing = False\n",
    "product_basis_2half, Coh_order_2, Dic_2 = System.ProductOperator(pol_basis_half,Coh_order,Dic_1,pol_basis_half,Coh_order,Dic_2,sort,indexing)"
   ]
  },
  {
   "cell_type": "code",
   "execution_count": 7,
   "id": "7d706f70",
   "metadata": {},
   "outputs": [
    {
     "name": "stdout",
     "output_type": "stream",
     "text": [
      "Coherence order (Two spin half particles):  [-2, -1, -1, -1, -1, 0, 0, 0, 0, 0, 0, 1, 1, 1, 1, 2]\n"
     ]
    }
   ],
   "source": [
    "print(\"Coherence order (Two spin half particles): \", Coh_order_2)"
   ]
  },
  {
   "cell_type": "code",
   "execution_count": 8,
   "id": "2a47c1ea",
   "metadata": {},
   "outputs": [
    {
     "name": "stdout",
     "output_type": "stream",
     "text": [
      "Dictionary of operator basis for two spin half particles:  ['I-S-', 'ES-', 'I-E', 'I-Sz', 'IzS-', 'EE', 'ESz', 'I-S+', 'IzE', 'IzSz', 'I+S-', 'ES+', 'IzS+', 'I+E', 'I+Sz', 'I+S+']\n"
     ]
    }
   ],
   "source": [
    "print(\"Dictionary of operator basis for two spin half particles: \", Dic_2)"
   ]
  },
  {
   "cell_type": "code",
   "execution_count": 9,
   "id": "9861c0f9",
   "metadata": {},
   "outputs": [
    {
     "data": {
      "text/latex": [
       "$\\displaystyle \\left[\\begin{matrix}0 & 0 & 0 & 0\\\\0 & 0 & 0 & 0\\\\0 & 0 & 0 & 0\\\\1.0 & 0 & 0 & 0\\end{matrix}\\right]$"
      ],
      "text/plain": [
       "Matrix([\n",
       "[  0, 0, 0, 0],\n",
       "[  0, 0, 0, 0],\n",
       "[  0, 0, 0, 0],\n",
       "[1.0, 0, 0, 0]])"
      ]
     },
     "execution_count": 9,
     "metadata": {},
     "output_type": "execute_result"
    }
   ],
   "source": [
    "Matrix(product_basis_2half[0])"
   ]
  },
  {
   "cell_type": "code",
   "execution_count": 10,
   "id": "66d308a5",
   "metadata": {},
   "outputs": [],
   "source": [
    "\"\"\"\n",
    "Product operator basis for three spin half particles\n",
    "\"\"\"\n",
    "\n",
    "indexing = True\n",
    "product_basis_3half, Coh_order_3, Dic_3 = System.ProductOperator(product_basis_2half,Coh_order_2,Dic_2,pol_basis_half,Coh_order,Dic_3,sort,indexing)"
   ]
  },
  {
   "cell_type": "code",
   "execution_count": 11,
   "id": "bd0605d9",
   "metadata": {},
   "outputs": [
    {
     "name": "stdout",
     "output_type": "stream",
     "text": [
      "Coherence order (Three spin half particles):  [-3, -2, -2, -2, -2, -2, -2, -1, -1, -1, -1, -1, -1, -1, -1, -1, -1, -1, -1, -1, -1, -1, 0, 0, 0, 0, 0, 0, 0, 0, 0, 0, 0, 0, 0, 0, 0, 0, 0, 0, 0, 0, 1, 1, 1, 1, 1, 1, 1, 1, 1, 1, 1, 1, 1, 1, 1, 2, 2, 2, 2, 2, 2, 3]\n"
     ]
    }
   ],
   "source": [
    "print(\"Coherence order (Three spin half particles): \", Coh_order_3)"
   ]
  },
  {
   "cell_type": "code",
   "execution_count": 12,
   "id": "4acd2c0b",
   "metadata": {},
   "outputs": [
    {
     "name": "stdout",
     "output_type": "stream",
     "text": [
      "Dictionary of operator basis for three spin half particles:  ['I-S-R-[0]', 'I-S-E[1]', 'I-S-Rz[2]', 'ES-R-[3]', 'I-ER-[4]', 'I-SzR-[5]', 'IzS-R-[6]', 'I-S-R+[7]', 'ES-E[8]', 'ES-Rz[9]', 'I-EE[10]', 'I-ERz[11]', 'I-SzE[12]', 'I-SzRz[13]', 'IzS-E[14]', 'IzS-Rz[15]', 'EER-[16]', 'ESzR-[17]', 'I-S+R-[18]', 'IzER-[19]', 'IzSzR-[20]', 'I+S-R-[21]', 'ES-R+[22]', 'I-ER+[23]', 'I-SzR+[24]', 'IzS-R+[25]', 'EEE[26]', 'EERz[27]', 'ESzE[28]', 'ESzRz[29]', 'I-S+E[30]', 'I-S+Rz[31]', 'IzEE[32]', 'IzERz[33]', 'IzSzE[34]', 'IzSzRz[35]', 'I+S-E[36]', 'I+S-Rz[37]', 'ES+R-[38]', 'IzS+R-[39]', 'I+ER-[40]', 'I+SzR-[41]', 'EER+[42]', 'ESzR+[43]', 'I-S+R+[44]', 'IzER+[45]', 'IzSzR+[46]', 'I+S-R+[47]', 'ES+E[48]', 'ES+Rz[49]', 'IzS+E[50]', 'IzS+Rz[51]', 'I+EE[52]', 'I+ERz[53]', 'I+SzE[54]', 'I+SzRz[55]', 'I+S+R-[56]', 'ES+R+[57]', 'IzS+R+[58]', 'I+ER+[59]', 'I+SzR+[60]', 'I+S+E[61]', 'I+S+Rz[62]', 'I+S+R+[63]']\n"
     ]
    }
   ],
   "source": [
    "print(\"Dictionary of operator basis for three spin half particles: \", Dic_3)"
   ]
  },
  {
   "cell_type": "markdown",
   "id": "cd75fea1",
   "metadata": {},
   "source": [
    "## Basis: $ I_{-}S_{-}R_{-}$"
   ]
  },
  {
   "cell_type": "code",
   "execution_count": 13,
   "id": "cf34a48b",
   "metadata": {},
   "outputs": [
    {
     "data": {
      "text/latex": [
       "$\\displaystyle \\left[\\begin{matrix}0 & 0 & 0 & 0 & 0 & 0 & 0 & 0\\\\0 & 0 & 0 & 0 & 0 & 0 & 0 & 0\\\\0 & 0 & 0 & 0 & 0 & 0 & 0 & 0\\\\0 & 0 & 0 & 0 & 0 & 0 & 0 & 0\\\\0 & 0 & 0 & 0 & 0 & 0 & 0 & 0\\\\0 & 0 & 0 & 0 & 0 & 0 & 0 & 0\\\\0 & 0 & 0 & 0 & 0 & 0 & 0 & 0\\\\1.0 & 0 & 0 & 0 & 0 & 0 & 0 & 0\\end{matrix}\\right]$"
      ],
      "text/plain": [
       "Matrix([\n",
       "[  0, 0, 0, 0, 0, 0, 0, 0],\n",
       "[  0, 0, 0, 0, 0, 0, 0, 0],\n",
       "[  0, 0, 0, 0, 0, 0, 0, 0],\n",
       "[  0, 0, 0, 0, 0, 0, 0, 0],\n",
       "[  0, 0, 0, 0, 0, 0, 0, 0],\n",
       "[  0, 0, 0, 0, 0, 0, 0, 0],\n",
       "[  0, 0, 0, 0, 0, 0, 0, 0],\n",
       "[1.0, 0, 0, 0, 0, 0, 0, 0]])"
      ]
     },
     "execution_count": 13,
     "metadata": {},
     "output_type": "execute_result"
    }
   ],
   "source": [
    "Matrix(product_basis_3half[0])"
   ]
  },
  {
   "cell_type": "code",
   "execution_count": 14,
   "id": "50acd8a3",
   "metadata": {},
   "outputs": [
    {
     "data": {
      "text/latex": [
       "$\\displaystyle \\left[\\begin{matrix}0 & 0 & 0 & 0 & 0 & 0 & 0 & 0\\\\0 & 0 & 0 & 0 & 0 & 0 & 0 & 0\\\\0 & 0 & 0 & 0 & 0 & 0 & 0 & 0\\\\0 & 0 & 0 & 0 & 0 & 0 & 0 & 0\\\\0 & 0 & 0 & 0 & 0 & 0 & 0 & 0\\\\0 & 0 & 0 & 0 & 0 & 0 & 0 & 0\\\\0 & 0 & 0 & 0 & 0 & 0 & 0 & 0\\\\1.0 & 0 & 0 & 0 & 0 & 0 & 0 & 0\\end{matrix}\\right]$"
      ],
      "text/plain": [
       "Matrix([\n",
       "[  0, 0, 0, 0, 0, 0, 0, 0],\n",
       "[  0, 0, 0, 0, 0, 0, 0, 0],\n",
       "[  0, 0, 0, 0, 0, 0, 0, 0],\n",
       "[  0, 0, 0, 0, 0, 0, 0, 0],\n",
       "[  0, 0, 0, 0, 0, 0, 0, 0],\n",
       "[  0, 0, 0, 0, 0, 0, 0, 0],\n",
       "[  0, 0, 0, 0, 0, 0, 0, 0],\n",
       "[1.0, 0, 0, 0, 0, 0, 0, 0]])"
      ]
     },
     "execution_count": 14,
     "metadata": {},
     "output_type": "execute_result"
    }
   ],
   "source": [
    "Matrix(Sm[0] @ Sm[1] @ Sm[2])"
   ]
  },
  {
   "cell_type": "markdown",
   "id": "a7aed1f7",
   "metadata": {},
   "source": [
    "## Basis: $\\frac{1}{2\\sqrt(2)} E$"
   ]
  },
  {
   "cell_type": "code",
   "execution_count": 15,
   "id": "4aedf874",
   "metadata": {},
   "outputs": [
    {
     "data": {
      "text/latex": [
       "$\\displaystyle \\left[\\begin{matrix}0.353553390593274 & 0 & 0 & 0 & 0 & 0 & 0 & 0\\\\0 & 0.353553390593274 & 0 & 0 & 0 & 0 & 0 & 0\\\\0 & 0 & 0.353553390593274 & 0 & 0 & 0 & 0 & 0\\\\0 & 0 & 0 & 0.353553390593274 & 0 & 0 & 0 & 0\\\\0 & 0 & 0 & 0 & 0.353553390593274 & 0 & 0 & 0\\\\0 & 0 & 0 & 0 & 0 & 0.353553390593274 & 0 & 0\\\\0 & 0 & 0 & 0 & 0 & 0 & 0.353553390593274 & 0\\\\0 & 0 & 0 & 0 & 0 & 0 & 0 & 0.353553390593274\\end{matrix}\\right]$"
      ],
      "text/plain": [
       "Matrix([\n",
       "[0.353553390593274,                 0,                 0,                 0,                 0,                 0,                 0,                 0],\n",
       "[                0, 0.353553390593274,                 0,                 0,                 0,                 0,                 0,                 0],\n",
       "[                0,                 0, 0.353553390593274,                 0,                 0,                 0,                 0,                 0],\n",
       "[                0,                 0,                 0, 0.353553390593274,                 0,                 0,                 0,                 0],\n",
       "[                0,                 0,                 0,                 0, 0.353553390593274,                 0,                 0,                 0],\n",
       "[                0,                 0,                 0,                 0,                 0, 0.353553390593274,                 0,                 0],\n",
       "[                0,                 0,                 0,                 0,                 0,                 0, 0.353553390593274,                 0],\n",
       "[                0,                 0,                 0,                 0,                 0,                 0,                 0, 0.353553390593274]])"
      ]
     },
     "execution_count": 15,
     "metadata": {},
     "output_type": "execute_result"
    }
   ],
   "source": [
    "Matrix(product_basis_3half[26])"
   ]
  },
  {
   "cell_type": "code",
   "execution_count": 16,
   "id": "b6cac427",
   "metadata": {},
   "outputs": [
    {
     "data": {
      "text/latex": [
       "$\\displaystyle \\left[\\begin{matrix}0.353553390593274 & 0 & 0 & 0 & 0 & 0 & 0 & 0\\\\0 & 0.353553390593274 & 0 & 0 & 0 & 0 & 0 & 0\\\\0 & 0 & 0.353553390593274 & 0 & 0 & 0 & 0 & 0\\\\0 & 0 & 0 & 0.353553390593274 & 0 & 0 & 0 & 0\\\\0 & 0 & 0 & 0 & 0.353553390593274 & 0 & 0 & 0\\\\0 & 0 & 0 & 0 & 0 & 0.353553390593274 & 0 & 0\\\\0 & 0 & 0 & 0 & 0 & 0 & 0.353553390593274 & 0\\\\0 & 0 & 0 & 0 & 0 & 0 & 0 & 0.353553390593274\\end{matrix}\\right]$"
      ],
      "text/plain": [
       "Matrix([\n",
       "[0.353553390593274,                 0,                 0,                 0,                 0,                 0,                 0,                 0],\n",
       "[                0, 0.353553390593274,                 0,                 0,                 0,                 0,                 0,                 0],\n",
       "[                0,                 0, 0.353553390593274,                 0,                 0,                 0,                 0,                 0],\n",
       "[                0,                 0,                 0, 0.353553390593274,                 0,                 0,                 0,                 0],\n",
       "[                0,                 0,                 0,                 0, 0.353553390593274,                 0,                 0,                 0],\n",
       "[                0,                 0,                 0,                 0,                 0, 0.353553390593274,                 0,                 0],\n",
       "[                0,                 0,                 0,                 0,                 0,                 0, 0.353553390593274,                 0],\n",
       "[                0,                 0,                 0,                 0,                 0,                 0,                 0, 0.353553390593274]])"
      ]
     },
     "execution_count": 16,
     "metadata": {},
     "output_type": "execute_result"
    }
   ],
   "source": [
    "Matrix(1/(2*np.sqrt(2)) * np.kron(eye(2), np.kron(eye(2), eye(2))))"
   ]
  },
  {
   "cell_type": "markdown",
   "id": "4ea25686",
   "metadata": {},
   "source": [
    "## Basis: $\\sqrt(2) I_{z}S_{+}R_{+}$"
   ]
  },
  {
   "cell_type": "code",
   "execution_count": 17,
   "id": "7ffa7cf4",
   "metadata": {},
   "outputs": [
    {
     "data": {
      "text/latex": [
       "$\\displaystyle \\left[\\begin{matrix}0 & 0 & 0 & 0.707106781186547 & 0 & 0 & 0 & 0\\\\0 & 0 & 0 & 0 & 0 & 0 & 0 & 0\\\\0 & 0 & 0 & 0 & 0 & 0 & 0 & 0\\\\0 & 0 & 0 & 0 & 0 & 0 & 0 & 0\\\\0 & 0 & 0 & 0 & 0 & 0 & 0 & -0.707106781186547\\\\0 & 0 & 0 & 0 & 0 & 0 & 0 & 0\\\\0 & 0 & 0 & 0 & 0 & 0 & 0 & 0\\\\0 & 0 & 0 & 0 & 0 & 0 & 0 & 0\\end{matrix}\\right]$"
      ],
      "text/plain": [
       "Matrix([\n",
       "[0, 0, 0, 0.707106781186547, 0, 0, 0,                  0],\n",
       "[0, 0, 0,                 0, 0, 0, 0,                  0],\n",
       "[0, 0, 0,                 0, 0, 0, 0,                  0],\n",
       "[0, 0, 0,                 0, 0, 0, 0,                  0],\n",
       "[0, 0, 0,                 0, 0, 0, 0, -0.707106781186547],\n",
       "[0, 0, 0,                 0, 0, 0, 0,                  0],\n",
       "[0, 0, 0,                 0, 0, 0, 0,                  0],\n",
       "[0, 0, 0,                 0, 0, 0, 0,                  0]])"
      ]
     },
     "execution_count": 17,
     "metadata": {},
     "output_type": "execute_result"
    }
   ],
   "source": [
    "Matrix(product_basis_3half[58])"
   ]
  },
  {
   "cell_type": "code",
   "execution_count": 18,
   "id": "c0add38b",
   "metadata": {},
   "outputs": [
    {
     "data": {
      "text/latex": [
       "$\\displaystyle \\left[\\begin{matrix}0 & 0 & 0 & 0.707106781186548 & 0 & 0 & 0 & 0\\\\0 & 0 & 0 & 0 & 0 & 0 & 0 & 0\\\\0 & 0 & 0 & 0 & 0 & 0 & 0 & 0\\\\0 & 0 & 0 & 0 & 0 & 0 & 0 & 0\\\\0 & 0 & 0 & 0 & 0 & 0 & 0 & -0.707106781186548\\\\0 & 0 & 0 & 0 & 0 & 0 & 0 & 0\\\\0 & 0 & 0 & 0 & 0 & 0 & 0 & 0\\\\0 & 0 & 0 & 0 & 0 & 0 & 0 & 0\\end{matrix}\\right]$"
      ],
      "text/plain": [
       "Matrix([\n",
       "[0, 0, 0, 0.707106781186548, 0, 0, 0,                  0],\n",
       "[0, 0, 0,                 0, 0, 0, 0,                  0],\n",
       "[0, 0, 0,                 0, 0, 0, 0,                  0],\n",
       "[0, 0, 0,                 0, 0, 0, 0,                  0],\n",
       "[0, 0, 0,                 0, 0, 0, 0, -0.707106781186548],\n",
       "[0, 0, 0,                 0, 0, 0, 0,                  0],\n",
       "[0, 0, 0,                 0, 0, 0, 0,                  0],\n",
       "[0, 0, 0,                 0, 0, 0, 0,                  0]])"
      ]
     },
     "execution_count": 18,
     "metadata": {},
     "output_type": "execute_result"
    }
   ],
   "source": [
    "Matrix(np.sqrt(2) * Sz[0] @ Sp[1] @ Sp[2])"
   ]
  },
  {
   "cell_type": "markdown",
   "id": "99a19db1",
   "metadata": {},
   "source": [
    "## Any suggestion? write to me\n",
    "If you see something is wrong please write to me, so that the PyOR can be error free. \n",
    "\n",
    "vineethfrancis.physics@gmail.com"
   ]
  }
 ],
 "metadata": {
  "kernelspec": {
   "display_name": "Python 3 (ipykernel)",
   "language": "python",
   "name": "python3"
  },
  "language_info": {
   "codemirror_mode": {
    "name": "ipython",
    "version": 3
   },
   "file_extension": ".py",
   "mimetype": "text/x-python",
   "name": "python",
   "nbconvert_exporter": "python",
   "pygments_lexer": "ipython3",
   "version": "3.9.7"
  }
 },
 "nbformat": 4,
 "nbformat_minor": 5
}
