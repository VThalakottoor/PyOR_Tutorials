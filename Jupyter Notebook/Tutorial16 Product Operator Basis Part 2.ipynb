{
 "cells": [
  {
   "cell_type": "markdown",
   "id": "db02aa50",
   "metadata": {},
   "source": [
    "# Python On Resonance (PyOR)\n",
    "## Everybody can simulate NMR\n",
    "\n",
    "Author: Vineeth Thalakottoor \n",
    "\n",
    "Email: vineethfrancis.physics@gmail.com"
   ]
  },
  {
   "cell_type": "markdown",
   "id": "b74d74cf",
   "metadata": {},
   "source": [
    "## Tutorial 16: Product Operator Basis Part 2\n",
    "In this tutorial we will see how to make operator basis for three spin half particles."
   ]
  },
  {
   "cell_type": "markdown",
   "id": "eafe32d5",
   "metadata": {},
   "source": [
    "## Load Python packages and define path to the source file \"PythonOnResonance.py\""
   ]
  },
  {
   "cell_type": "code",
   "execution_count": 1,
   "id": "53564ee3",
   "metadata": {},
   "outputs": [],
   "source": [
    "pathSource = '/media/HD2/Vineeth/PostDoc_Simulations/Github/PyOR_v1.0/Source'"
   ]
  },
  {
   "cell_type": "code",
   "execution_count": 2,
   "id": "c383deb3",
   "metadata": {},
   "outputs": [
    {
     "data": {
      "text/html": [
       "<style>.container { width:100% !important; }</style>"
      ],
      "text/plain": [
       "<IPython.core.display.HTML object>"
      ]
     },
     "metadata": {},
     "output_type": "display_data"
    }
   ],
   "source": [
    "from IPython.display import display, HTML\n",
    "display(HTML(\"<style>.container { width:100% !important; }</style>\"))\n",
    "import sys\n",
    "sys.path.append(pathSource)\n",
    "\n",
    "import PythonOnResonance as PyOR\n",
    "\n",
    "import time\n",
    "import numpy as np\n",
    "import matplotlib.pyplot as plt\n",
    "from matplotlib import rc\n",
    "%matplotlib notebook\n",
    "import sympy as sp\n",
    "from sympy import *"
   ]
  },
  {
   "cell_type": "code",
   "execution_count": 3,
   "id": "5f6ca35c",
   "metadata": {},
   "outputs": [],
   "source": [
    "Slist1 = [1/2,1/2,1/2]\n",
    "hbarEQ1 = True\n",
    "System = PyOR.Numerical_MR(Slist1,hbarEQ1)"
   ]
  },
  {
   "cell_type": "code",
   "execution_count": 4,
   "id": "4706a7bb",
   "metadata": {},
   "outputs": [],
   "source": [
    "\"\"\"\n",
    "Generate Spin Operators\n",
    "\"\"\";\n",
    "\n",
    "System = PyOR.Numerical_MR(Slist1,hbarEQ1)\n",
    "\n",
    "\"\"\"\n",
    "Sx, Sy and Sz Operators\n",
    "\"\"\";\n",
    "Sx,Sy,Sz = System.SpinOperator()\n",
    "\n",
    "\"\"\"\n",
    "S+ and S- Operators\n",
    "\"\"\";\n",
    "Sp,Sm = System.PMoperators(Sx,Sy)"
   ]
  },
  {
   "cell_type": "code",
   "execution_count": 5,
   "id": "f44bbcce",
   "metadata": {},
   "outputs": [
    {
     "name": "stdout",
     "output_type": "stream",
     "text": [
      "Coherence Order:  [0, -1, 0, 1]\n",
      "LM state:  [(0, 0), (1, -1), (1, 0), (1, 1)]\n"
     ]
    }
   ],
   "source": [
    "\"\"\"\n",
    "Polarization Operator Basis for single spin half particle\n",
    "let S = 1/2\n",
    "\"\"\";\n",
    "\n",
    "pol_basis_half, Coherence_order, LM_state = System.Polarization_OpBasis(1/2)"
   ]
  },
  {
   "cell_type": "code",
   "execution_count": 6,
   "id": "c864240e",
   "metadata": {},
   "outputs": [],
   "source": [
    "\"\"\"\n",
    "First make product operator basis for two spin half particle and then with the third, Spin 1 -> I, Spin 2 -> S and Spin 3 -> R\n",
    "\"\"\"\n",
    "\n",
    "Coh_order = [0,-1, 0, 1]\n",
    "Dic_1 = [\"E1 \",\"Im \",\"Iz \",\"Ip \"]\n",
    "Dic_2 = [\"E2 \",\"Sm \",\"Sz \",\"Sp \"]\n",
    "Dic_3 = [\"E3 \",\"Rm \",\"Rz \",\"Rp \"]\n",
    "\n",
    "\"\"\"\n",
    "Sorting options: 'normal', 'negative to positive', 'zero to high'\n",
    "\"\"\"\n",
    "\n",
    "sort = 'negative to positive' \n",
    "indexing = False\n",
    "product_basis_2half, Coh_order_2, Dic_2 = System.ProductOperator(pol_basis_half,Coh_order,Dic_1,pol_basis_half,Coh_order,Dic_2,sort,indexing)"
   ]
  },
  {
   "cell_type": "code",
   "execution_count": 7,
   "id": "7d706f70",
   "metadata": {},
   "outputs": [
    {
     "name": "stdout",
     "output_type": "stream",
     "text": [
      "Coherence order (Two spin half particles):  [-2, -1, -1, -1, -1, 0, 0, 0, 0, 0, 0, 1, 1, 1, 1, 2]\n"
     ]
    }
   ],
   "source": [
    "print(\"Coherence order (Two spin half particles): \", Coh_order_2)"
   ]
  },
  {
   "cell_type": "code",
   "execution_count": 8,
   "id": "2a47c1ea",
   "metadata": {},
   "outputs": [
    {
     "name": "stdout",
     "output_type": "stream",
     "text": [
      "Dictionary of operator basis for two spin half particles:  ['Im Sm ', 'E1 Sm ', 'Im E2 ', 'Im Sz ', 'Iz Sm ', 'E1 E2 ', 'E1 Sz ', 'Im Sp ', 'Iz E2 ', 'Iz Sz ', 'Ip Sm ', 'E1 Sp ', 'Iz Sp ', 'Ip E2 ', 'Ip Sz ', 'Ip Sp ']\n"
     ]
    }
   ],
   "source": [
    "print(\"Dictionary of operator basis for two spin half particles: \", Dic_2)"
   ]
  },
  {
   "cell_type": "code",
   "execution_count": 9,
   "id": "9861c0f9",
   "metadata": {},
   "outputs": [
    {
     "data": {
      "text/latex": [
       "$\\displaystyle \\left[\\begin{matrix}0 & 0 & 0 & 0\\\\0 & 0 & 0 & 0\\\\0 & 0 & 0 & 0\\\\1.0 & 0 & 0 & 0\\end{matrix}\\right]$"
      ],
      "text/plain": [
       "Matrix([\n",
       "[  0, 0, 0, 0],\n",
       "[  0, 0, 0, 0],\n",
       "[  0, 0, 0, 0],\n",
       "[1.0, 0, 0, 0]])"
      ]
     },
     "execution_count": 9,
     "metadata": {},
     "output_type": "execute_result"
    }
   ],
   "source": [
    "Matrix(product_basis_2half[0])"
   ]
  },
  {
   "cell_type": "code",
   "execution_count": 10,
   "id": "66d308a5",
   "metadata": {},
   "outputs": [],
   "source": [
    "\"\"\"\n",
    "Product operator basis for three spin half particles\n",
    "\"\"\"\n",
    "\n",
    "indexing = True\n",
    "product_basis_3half, Coh_order_3, Dic_3 = System.ProductOperator(product_basis_2half,Coh_order_2,Dic_2,pol_basis_half,Coh_order,Dic_3,sort,indexing)"
   ]
  },
  {
   "cell_type": "code",
   "execution_count": 11,
   "id": "bd0605d9",
   "metadata": {},
   "outputs": [
    {
     "name": "stdout",
     "output_type": "stream",
     "text": [
      "Coherence order (Three spin half particles):  [-3, -2, -2, -2, -2, -2, -2, -1, -1, -1, -1, -1, -1, -1, -1, -1, -1, -1, -1, -1, -1, -1, 0, 0, 0, 0, 0, 0, 0, 0, 0, 0, 0, 0, 0, 0, 0, 0, 0, 0, 0, 0, 1, 1, 1, 1, 1, 1, 1, 1, 1, 1, 1, 1, 1, 1, 1, 2, 2, 2, 2, 2, 2, 3]\n"
     ]
    }
   ],
   "source": [
    "print(\"Coherence order (Three spin half particles): \", Coh_order_3)"
   ]
  },
  {
   "cell_type": "code",
   "execution_count": 12,
   "id": "4acd2c0b",
   "metadata": {},
   "outputs": [
    {
     "name": "stdout",
     "output_type": "stream",
     "text": [
      "Dictionary of operator basis for three spin half particles:  ['Im Sm Rm [0]', 'Im Sm E3 [1]', 'Im Sm Rz [2]', 'E1 Sm Rm [3]', 'Im E2 Rm [4]', 'Im Sz Rm [5]', 'Iz Sm Rm [6]', 'Im Sm Rp [7]', 'E1 Sm E3 [8]', 'E1 Sm Rz [9]', 'Im E2 E3 [10]', 'Im E2 Rz [11]', 'Im Sz E3 [12]', 'Im Sz Rz [13]', 'Iz Sm E3 [14]', 'Iz Sm Rz [15]', 'E1 E2 Rm [16]', 'E1 Sz Rm [17]', 'Im Sp Rm [18]', 'Iz E2 Rm [19]', 'Iz Sz Rm [20]', 'Ip Sm Rm [21]', 'E1 Sm Rp [22]', 'Im E2 Rp [23]', 'Im Sz Rp [24]', 'Iz Sm Rp [25]', 'E1 E2 E3 [26]', 'E1 E2 Rz [27]', 'E1 Sz E3 [28]', 'E1 Sz Rz [29]', 'Im Sp E3 [30]', 'Im Sp Rz [31]', 'Iz E2 E3 [32]', 'Iz E2 Rz [33]', 'Iz Sz E3 [34]', 'Iz Sz Rz [35]', 'Ip Sm E3 [36]', 'Ip Sm Rz [37]', 'E1 Sp Rm [38]', 'Iz Sp Rm [39]', 'Ip E2 Rm [40]', 'Ip Sz Rm [41]', 'E1 E2 Rp [42]', 'E1 Sz Rp [43]', 'Im Sp Rp [44]', 'Iz E2 Rp [45]', 'Iz Sz Rp [46]', 'Ip Sm Rp [47]', 'E1 Sp E3 [48]', 'E1 Sp Rz [49]', 'Iz Sp E3 [50]', 'Iz Sp Rz [51]', 'Ip E2 E3 [52]', 'Ip E2 Rz [53]', 'Ip Sz E3 [54]', 'Ip Sz Rz [55]', 'Ip Sp Rm [56]', 'E1 Sp Rp [57]', 'Iz Sp Rp [58]', 'Ip E2 Rp [59]', 'Ip Sz Rp [60]', 'Ip Sp E3 [61]', 'Ip Sp Rz [62]', 'Ip Sp Rp [63]']\n"
     ]
    }
   ],
   "source": [
    "print(\"Dictionary of operator basis for three spin half particles: \", Dic_3)"
   ]
  },
  {
   "cell_type": "markdown",
   "id": "cd75fea1",
   "metadata": {},
   "source": [
    "## Product Operator, $ I_{-}S_{-}R_{-}$"
   ]
  },
  {
   "cell_type": "code",
   "execution_count": 13,
   "id": "cf34a48b",
   "metadata": {},
   "outputs": [
    {
     "data": {
      "text/latex": [
       "$\\displaystyle \\left[\\begin{matrix}0 & 0 & 0 & 0 & 0 & 0 & 0 & 0\\\\0 & 0 & 0 & 0 & 0 & 0 & 0 & 0\\\\0 & 0 & 0 & 0 & 0 & 0 & 0 & 0\\\\0 & 0 & 0 & 0 & 0 & 0 & 0 & 0\\\\0 & 0 & 0 & 0 & 0 & 0 & 0 & 0\\\\0 & 0 & 0 & 0 & 0 & 0 & 0 & 0\\\\0 & 0 & 0 & 0 & 0 & 0 & 0 & 0\\\\1.0 & 0 & 0 & 0 & 0 & 0 & 0 & 0\\end{matrix}\\right]$"
      ],
      "text/plain": [
       "Matrix([\n",
       "[  0, 0, 0, 0, 0, 0, 0, 0],\n",
       "[  0, 0, 0, 0, 0, 0, 0, 0],\n",
       "[  0, 0, 0, 0, 0, 0, 0, 0],\n",
       "[  0, 0, 0, 0, 0, 0, 0, 0],\n",
       "[  0, 0, 0, 0, 0, 0, 0, 0],\n",
       "[  0, 0, 0, 0, 0, 0, 0, 0],\n",
       "[  0, 0, 0, 0, 0, 0, 0, 0],\n",
       "[1.0, 0, 0, 0, 0, 0, 0, 0]])"
      ]
     },
     "execution_count": 13,
     "metadata": {},
     "output_type": "execute_result"
    }
   ],
   "source": [
    "Matrix(product_basis_3half[0])"
   ]
  },
  {
   "cell_type": "code",
   "execution_count": 14,
   "id": "50acd8a3",
   "metadata": {},
   "outputs": [
    {
     "data": {
      "text/latex": [
       "$\\displaystyle \\left[\\begin{matrix}0 & 0 & 0 & 0 & 0 & 0 & 0 & 0\\\\0 & 0 & 0 & 0 & 0 & 0 & 0 & 0\\\\0 & 0 & 0 & 0 & 0 & 0 & 0 & 0\\\\0 & 0 & 0 & 0 & 0 & 0 & 0 & 0\\\\0 & 0 & 0 & 0 & 0 & 0 & 0 & 0\\\\0 & 0 & 0 & 0 & 0 & 0 & 0 & 0\\\\0 & 0 & 0 & 0 & 0 & 0 & 0 & 0\\\\1.0 & 0 & 0 & 0 & 0 & 0 & 0 & 0\\end{matrix}\\right]$"
      ],
      "text/plain": [
       "Matrix([\n",
       "[  0, 0, 0, 0, 0, 0, 0, 0],\n",
       "[  0, 0, 0, 0, 0, 0, 0, 0],\n",
       "[  0, 0, 0, 0, 0, 0, 0, 0],\n",
       "[  0, 0, 0, 0, 0, 0, 0, 0],\n",
       "[  0, 0, 0, 0, 0, 0, 0, 0],\n",
       "[  0, 0, 0, 0, 0, 0, 0, 0],\n",
       "[  0, 0, 0, 0, 0, 0, 0, 0],\n",
       "[1.0, 0, 0, 0, 0, 0, 0, 0]])"
      ]
     },
     "execution_count": 14,
     "metadata": {},
     "output_type": "execute_result"
    }
   ],
   "source": [
    "Matrix(Sm[0] @ Sm[1] @ Sm[2])"
   ]
  },
  {
   "cell_type": "markdown",
   "id": "a7aed1f7",
   "metadata": {},
   "source": [
    "## Product Operator, $\\frac{1}{2\\sqrt(2)} E$"
   ]
  },
  {
   "cell_type": "code",
   "execution_count": 15,
   "id": "4aedf874",
   "metadata": {},
   "outputs": [
    {
     "data": {
      "text/latex": [
       "$\\displaystyle \\left[\\begin{matrix}0.353553390593274 & 0 & 0 & 0 & 0 & 0 & 0 & 0\\\\0 & 0.353553390593274 & 0 & 0 & 0 & 0 & 0 & 0\\\\0 & 0 & 0.353553390593274 & 0 & 0 & 0 & 0 & 0\\\\0 & 0 & 0 & 0.353553390593274 & 0 & 0 & 0 & 0\\\\0 & 0 & 0 & 0 & 0.353553390593274 & 0 & 0 & 0\\\\0 & 0 & 0 & 0 & 0 & 0.353553390593274 & 0 & 0\\\\0 & 0 & 0 & 0 & 0 & 0 & 0.353553390593274 & 0\\\\0 & 0 & 0 & 0 & 0 & 0 & 0 & 0.353553390593274\\end{matrix}\\right]$"
      ],
      "text/plain": [
       "Matrix([\n",
       "[0.353553390593274,                 0,                 0,                 0,                 0,                 0,                 0,                 0],\n",
       "[                0, 0.353553390593274,                 0,                 0,                 0,                 0,                 0,                 0],\n",
       "[                0,                 0, 0.353553390593274,                 0,                 0,                 0,                 0,                 0],\n",
       "[                0,                 0,                 0, 0.353553390593274,                 0,                 0,                 0,                 0],\n",
       "[                0,                 0,                 0,                 0, 0.353553390593274,                 0,                 0,                 0],\n",
       "[                0,                 0,                 0,                 0,                 0, 0.353553390593274,                 0,                 0],\n",
       "[                0,                 0,                 0,                 0,                 0,                 0, 0.353553390593274,                 0],\n",
       "[                0,                 0,                 0,                 0,                 0,                 0,                 0, 0.353553390593274]])"
      ]
     },
     "execution_count": 15,
     "metadata": {},
     "output_type": "execute_result"
    }
   ],
   "source": [
    "Matrix(product_basis_3half[26])"
   ]
  },
  {
   "cell_type": "code",
   "execution_count": 16,
   "id": "b6cac427",
   "metadata": {},
   "outputs": [
    {
     "data": {
      "text/latex": [
       "$\\displaystyle \\left[\\begin{matrix}0.353553390593274 & 0 & 0 & 0 & 0 & 0 & 0 & 0\\\\0 & 0.353553390593274 & 0 & 0 & 0 & 0 & 0 & 0\\\\0 & 0 & 0.353553390593274 & 0 & 0 & 0 & 0 & 0\\\\0 & 0 & 0 & 0.353553390593274 & 0 & 0 & 0 & 0\\\\0 & 0 & 0 & 0 & 0.353553390593274 & 0 & 0 & 0\\\\0 & 0 & 0 & 0 & 0 & 0.353553390593274 & 0 & 0\\\\0 & 0 & 0 & 0 & 0 & 0 & 0.353553390593274 & 0\\\\0 & 0 & 0 & 0 & 0 & 0 & 0 & 0.353553390593274\\end{matrix}\\right]$"
      ],
      "text/plain": [
       "Matrix([\n",
       "[0.353553390593274,                 0,                 0,                 0,                 0,                 0,                 0,                 0],\n",
       "[                0, 0.353553390593274,                 0,                 0,                 0,                 0,                 0,                 0],\n",
       "[                0,                 0, 0.353553390593274,                 0,                 0,                 0,                 0,                 0],\n",
       "[                0,                 0,                 0, 0.353553390593274,                 0,                 0,                 0,                 0],\n",
       "[                0,                 0,                 0,                 0, 0.353553390593274,                 0,                 0,                 0],\n",
       "[                0,                 0,                 0,                 0,                 0, 0.353553390593274,                 0,                 0],\n",
       "[                0,                 0,                 0,                 0,                 0,                 0, 0.353553390593274,                 0],\n",
       "[                0,                 0,                 0,                 0,                 0,                 0,                 0, 0.353553390593274]])"
      ]
     },
     "execution_count": 16,
     "metadata": {},
     "output_type": "execute_result"
    }
   ],
   "source": [
    "Matrix(1/(2*np.sqrt(2)) * np.kron(eye(2), np.kron(eye(2), eye(2))))"
   ]
  },
  {
   "cell_type": "markdown",
   "id": "4ea25686",
   "metadata": {},
   "source": [
    "## Product Operator, $\\sqrt(2) I_{z}S_{+}R_{+}$"
   ]
  },
  {
   "cell_type": "code",
   "execution_count": 17,
   "id": "7ffa7cf4",
   "metadata": {},
   "outputs": [
    {
     "data": {
      "text/latex": [
       "$\\displaystyle \\left[\\begin{matrix}0 & 0 & 0 & 0.707106781186547 & 0 & 0 & 0 & 0\\\\0 & 0 & 0 & 0 & 0 & 0 & 0 & 0\\\\0 & 0 & 0 & 0 & 0 & 0 & 0 & 0\\\\0 & 0 & 0 & 0 & 0 & 0 & 0 & 0\\\\0 & 0 & 0 & 0 & 0 & 0 & 0 & -0.707106781186547\\\\0 & 0 & 0 & 0 & 0 & 0 & 0 & 0\\\\0 & 0 & 0 & 0 & 0 & 0 & 0 & 0\\\\0 & 0 & 0 & 0 & 0 & 0 & 0 & 0\\end{matrix}\\right]$"
      ],
      "text/plain": [
       "Matrix([\n",
       "[0, 0, 0, 0.707106781186547, 0, 0, 0,                  0],\n",
       "[0, 0, 0,                 0, 0, 0, 0,                  0],\n",
       "[0, 0, 0,                 0, 0, 0, 0,                  0],\n",
       "[0, 0, 0,                 0, 0, 0, 0,                  0],\n",
       "[0, 0, 0,                 0, 0, 0, 0, -0.707106781186547],\n",
       "[0, 0, 0,                 0, 0, 0, 0,                  0],\n",
       "[0, 0, 0,                 0, 0, 0, 0,                  0],\n",
       "[0, 0, 0,                 0, 0, 0, 0,                  0]])"
      ]
     },
     "execution_count": 17,
     "metadata": {},
     "output_type": "execute_result"
    }
   ],
   "source": [
    "Matrix(product_basis_3half[58])"
   ]
  },
  {
   "cell_type": "code",
   "execution_count": 18,
   "id": "c0add38b",
   "metadata": {},
   "outputs": [
    {
     "data": {
      "text/latex": [
       "$\\displaystyle \\left[\\begin{matrix}0 & 0 & 0 & 0.707106781186548 & 0 & 0 & 0 & 0\\\\0 & 0 & 0 & 0 & 0 & 0 & 0 & 0\\\\0 & 0 & 0 & 0 & 0 & 0 & 0 & 0\\\\0 & 0 & 0 & 0 & 0 & 0 & 0 & 0\\\\0 & 0 & 0 & 0 & 0 & 0 & 0 & -0.707106781186548\\\\0 & 0 & 0 & 0 & 0 & 0 & 0 & 0\\\\0 & 0 & 0 & 0 & 0 & 0 & 0 & 0\\\\0 & 0 & 0 & 0 & 0 & 0 & 0 & 0\\end{matrix}\\right]$"
      ],
      "text/plain": [
       "Matrix([\n",
       "[0, 0, 0, 0.707106781186548, 0, 0, 0,                  0],\n",
       "[0, 0, 0,                 0, 0, 0, 0,                  0],\n",
       "[0, 0, 0,                 0, 0, 0, 0,                  0],\n",
       "[0, 0, 0,                 0, 0, 0, 0,                  0],\n",
       "[0, 0, 0,                 0, 0, 0, 0, -0.707106781186548],\n",
       "[0, 0, 0,                 0, 0, 0, 0,                  0],\n",
       "[0, 0, 0,                 0, 0, 0, 0,                  0],\n",
       "[0, 0, 0,                 0, 0, 0, 0,                  0]])"
      ]
     },
     "execution_count": 18,
     "metadata": {},
     "output_type": "execute_result"
    }
   ],
   "source": [
    "Matrix(np.sqrt(2) * Sz[0] @ Sp[1] @ Sp[2])"
   ]
  },
  {
   "cell_type": "markdown",
   "id": "99a19db1",
   "metadata": {},
   "source": [
    "## Any suggestion? write to me\n",
    "If you see something is wrong please write to me, so that the PyOR can be error free. \n",
    "\n",
    "vineethfrancis.physics@gmail.com"
   ]
  }
 ],
 "metadata": {
  "kernelspec": {
   "display_name": "Python 3 (ipykernel)",
   "language": "python",
   "name": "python3"
  },
  "language_info": {
   "codemirror_mode": {
    "name": "ipython",
    "version": 3
   },
   "file_extension": ".py",
   "mimetype": "text/x-python",
   "name": "python",
   "nbconvert_exporter": "python",
   "pygments_lexer": "ipython3",
   "version": "3.9.7"
  }
 },
 "nbformat": 4,
 "nbformat_minor": 5
}
