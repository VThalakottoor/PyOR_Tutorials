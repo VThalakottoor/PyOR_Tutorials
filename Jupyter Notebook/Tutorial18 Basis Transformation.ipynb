{
 "cells": [
  {
   "cell_type": "markdown",
   "id": "6718709f",
   "metadata": {},
   "source": [
    "# Python On Resonance (PyOR)\n",
    "## Everybody can simulate NMR\n",
    "\n",
    "Author: Vineeth Thalakottoor \n",
    "\n",
    "Email: vineethfrancis.physics@gmail.com"
   ]
  },
  {
   "cell_type": "markdown",
   "id": "27377342",
   "metadata": {},
   "source": [
    "## Tutorial 18 Basis Transformation"
   ]
  },
  {
   "cell_type": "markdown",
   "id": "9a604590",
   "metadata": {},
   "source": [
    "## Load Python packages and define path to the source file \"PythonOnResonance.py\""
   ]
  },
  {
   "cell_type": "code",
   "execution_count": 1,
   "id": "46ad2cad",
   "metadata": {},
   "outputs": [],
   "source": [
    "pathSource = '/media/HD2/Vineeth/PostDoc_Simulations/Github/PyOR_v1.0/Source'"
   ]
  },
  {
   "cell_type": "code",
   "execution_count": 2,
   "id": "aec6a6c2",
   "metadata": {},
   "outputs": [
    {
     "data": {
      "text/html": [
       "<style>.container { width:100% !important; }</style>"
      ],
      "text/plain": [
       "<IPython.core.display.HTML object>"
      ]
     },
     "metadata": {},
     "output_type": "display_data"
    }
   ],
   "source": [
    "from IPython.display import display, HTML\n",
    "display(HTML(\"<style>.container { width:100% !important; }</style>\"))\n",
    "import sys\n",
    "sys.path.append(pathSource)\n",
    "\n",
    "import PythonOnResonance as PyOR\n",
    "\n",
    "import time\n",
    "import numpy as np\n",
    "import matplotlib.pyplot as plt\n",
    "from matplotlib import rc\n",
    "%matplotlib notebook\n",
    "import sympy as sp\n",
    "from sympy import *"
   ]
  },
  {
   "cell_type": "markdown",
   "id": "348e01cb",
   "metadata": {},
   "source": [
    "## Generating Spin System"
   ]
  },
  {
   "cell_type": "code",
   "execution_count": 3,
   "id": "ab0e39a3",
   "metadata": {},
   "outputs": [],
   "source": [
    "\"\"\"\n",
    "Define Spin quantum numbers of your spins in \"Slist1\".\n",
    "Slist1[0] is spin of first particle and Slist1[1] is spin of second particle.\n",
    "\"\"\";\n",
    "\n",
    "Slist1 = [1/2,1/2]"
   ]
  },
  {
   "cell_type": "code",
   "execution_count": 4,
   "id": "37ebf61c",
   "metadata": {},
   "outputs": [],
   "source": [
    "\"\"\"\n",
    "Define Planck constant equals 1. \n",
    "Because NMR spectroscopists are more interested to write Energy in frequency units. \n",
    "if False then hbarEQ1 = hbar\n",
    "\"\"\";\n",
    "\n",
    "hbarEQ1 = True"
   ]
  },
  {
   "cell_type": "code",
   "execution_count": 5,
   "id": "ed076c53",
   "metadata": {},
   "outputs": [],
   "source": [
    "\"\"\"\n",
    "Generate Spin Operators\n",
    "\"\"\";\n",
    "\n",
    "System = PyOR.Numerical_MR(Slist1,hbarEQ1)\n",
    "\n",
    "\"\"\"\n",
    "Sx, Sy and Sz Operators\n",
    "\"\"\";\n",
    "Sx,Sy,Sz = System.SpinOperator()\n",
    "\n",
    "\"\"\"\n",
    "S+ and S- Operators\n",
    "\"\"\";\n",
    "Sp,Sm = System.PMoperators(Sx,Sy)"
   ]
  },
  {
   "cell_type": "markdown",
   "id": "837c0451",
   "metadata": {},
   "source": [
    "## Zeeman Hamiltonian in Lab Frame\n",
    "\n",
    "Let generate Hamiltonians"
   ]
  },
  {
   "cell_type": "code",
   "execution_count": 6,
   "id": "770f663c",
   "metadata": {},
   "outputs": [
    {
     "name": "stdout",
     "output_type": "stream",
     "text": [
      "Larmor Frequency in MHz:  [-400.22802765 -400.22803765]\n"
     ]
    }
   ],
   "source": [
    "\"\"\"\n",
    "Gyromagnetic Ratio\n",
    "Gamma = [Gyromagnetic Ratio spin 1, Gyromagnetic Ratio spin 1, ...]\n",
    "\"\"\";\n",
    "Gamma = [System.gammaH1,System.gammaH1]\n",
    "\n",
    "\"\"\"\n",
    "Define the field of the spectromter, B0 in Tesla.\n",
    "\"\"\"\n",
    "B0 = 9.4\n",
    "\n",
    "\"\"\"\n",
    "Define the chemical Shift of individual spins\n",
    "Offset = [chemical Shift spin 1, chemical Shift spin 1, ..]\n",
    "\"\"\"\n",
    "Offset = [10,20] # Offset frequency in Hz\n",
    "\n",
    "\"\"\"\n",
    "Function \"LarmorF\" give the list Larmor frequencies of individual spins in lab frame\n",
    "\"\"\"\n",
    "LarmorF = System.LarmorFrequency(Gamma,B0,Offset)"
   ]
  },
  {
   "cell_type": "code",
   "execution_count": 7,
   "id": "82c9878e",
   "metadata": {},
   "outputs": [],
   "source": [
    "Hz = System.Zeeman(LarmorF,Sz)"
   ]
  },
  {
   "cell_type": "code",
   "execution_count": 8,
   "id": "ab8cadae",
   "metadata": {},
   "outputs": [
    {
     "data": {
      "text/latex": [
       "$|$1/2,1/2$\\rangle$$|$1/2,1/2$\\rangle$,$|$1/2,1/2$\\rangle$$|$1/2,-1/2$\\rangle$,$|$1/2,-1/2$\\rangle$$|$1/2,1/2$\\rangle$,$|$1/2,-1/2$\\rangle$$|$1/2,-1/2$\\rangle$"
      ],
      "text/plain": [
       "<IPython.core.display.Latex object>"
      ]
     },
     "metadata": {},
     "output_type": "display_data"
    }
   ],
   "source": [
    "\"\"\"\n",
    "Now lets see how to get the eigen vectors of the Zeman Hamiltonian (lab frame)\n",
    "\"\"\";\n",
    "B_Z = System.ZBasis_H(Hz)"
   ]
  },
  {
   "cell_type": "code",
   "execution_count": 9,
   "id": "c7c935e5",
   "metadata": {},
   "outputs": [
    {
     "data": {
      "text/latex": [
       "Basis: $T_{-}$, $T_{0}$,$T_{+}$,$S_{0}$"
      ],
      "text/plain": [
       "<IPython.core.display.Latex object>"
      ]
     },
     "metadata": {},
     "output_type": "display_data"
    }
   ],
   "source": [
    "\"\"\"\n",
    "Singlet Triplet Basis\n",
    "\"\"\";\n",
    "B_ST = System.STBasis(B_Z)"
   ]
  },
  {
   "cell_type": "code",
   "execution_count": 10,
   "id": "9610b9cb",
   "metadata": {},
   "outputs": [
    {
     "data": {
      "text/latex": [
       "$\\displaystyle \\left[\\begin{matrix}1.0 & 0 & 0 & 0\\\\0 & 0.707106781186547 & 0.707106781186547 & 0\\\\0 & 0 & 0 & 1.0\\\\0 & 0.707106781186547 & -0.707106781186547 & 0\\end{matrix}\\right]$"
      ],
      "text/plain": [
       "Matrix([\n",
       "[1.0,                 0,                  0,   0],\n",
       "[  0, 0.707106781186547,  0.707106781186547,   0],\n",
       "[  0,                 0,                  0, 1.0],\n",
       "[  0, 0.707106781186547, -0.707106781186547,   0]])"
      ]
     },
     "execution_count": 10,
     "metadata": {},
     "output_type": "execute_result"
    }
   ],
   "source": [
    "\"\"\"\n",
    "Basis Transformation\n",
    "\"\"\";\n",
    "U = System.Transform_StateBasis(B_Z,B_ST)\n",
    "Matrix(U)"
   ]
  },
  {
   "cell_type": "markdown",
   "id": "9e935336",
   "metadata": {},
   "source": [
    "## Zeeman Halitonian in Rotating Frame"
   ]
  },
  {
   "cell_type": "code",
   "execution_count": 11,
   "id": "c11ec8d7",
   "metadata": {},
   "outputs": [
    {
     "data": {
      "text/latex": [
       "$\\displaystyle \\left[\\begin{matrix}-15.0000000000126 & 0 & 0 & 0\\\\0 & 5.00000002530119 & 0 & 0\\\\0 & 0 & -5.00000002530119 & 0\\\\0 & 0 & 0 & 15.0000000000126\\end{matrix}\\right]$"
      ],
      "text/plain": [
       "Matrix([\n",
       "[-15.0000000000126,                0,                 0,                0],\n",
       "[                0, 5.00000002530119,                 0,                0],\n",
       "[                0,                0, -5.00000002530119,                0],\n",
       "[                0,                0,                 0, 15.0000000000126]])"
      ]
     },
     "execution_count": 11,
     "metadata": {},
     "output_type": "execute_result"
    }
   ],
   "source": [
    "OmegaRF = [-System.gammaH1*B0,-System.gammaH1*B0]\n",
    "Hzr = System.Zeeman_RotFrame(LarmorF,Sz,OmegaRF)\n",
    "Matrix(Hzr/(2.0*np.pi))"
   ]
  },
  {
   "cell_type": "markdown",
   "id": "0233e61b",
   "metadata": {},
   "source": [
    "## J Coupling Hamiltonian"
   ]
  },
  {
   "cell_type": "code",
   "execution_count": 12,
   "id": "5087ce5f",
   "metadata": {},
   "outputs": [
    {
     "data": {
      "text/latex": [
       "$\\displaystyle \\left[\\begin{matrix}1.25 & 0 & 0 & 0\\\\0 & -1.25 & 2.5 & 0\\\\0 & 2.5 & -1.25 & 0\\\\0 & 0 & 0 & 1.25\\end{matrix}\\right]$"
      ],
      "text/plain": [
       "Matrix([\n",
       "[1.25,     0,     0,    0],\n",
       "[   0, -1.25,   2.5,    0],\n",
       "[   0,   2.5, -1.25,    0],\n",
       "[   0,     0,     0, 1.25]])"
      ]
     },
     "execution_count": 12,
     "metadata": {},
     "output_type": "execute_result"
    }
   ],
   "source": [
    "'''\n",
    "Define J couplings between individual spins\n",
    "'''\n",
    "Jlist = np.zeros((len(Slist1),len(Slist1)))\n",
    "Jlist[0][1] = 5.0\n",
    "Hj = System.Jcoupling(Jlist,Sx,Sy,Sz)\n",
    "Matrix(Hj/(2.0*np.pi))"
   ]
  },
  {
   "cell_type": "markdown",
   "id": "a280ea73",
   "metadata": {},
   "source": [
    "## Basis Transformation of Hamiltonina from Zeeman to Singlet Triplet"
   ]
  },
  {
   "cell_type": "code",
   "execution_count": 13,
   "id": "059d9bc6",
   "metadata": {},
   "outputs": [
    {
     "data": {
      "text/latex": [
       "$\\displaystyle \\left[\\begin{matrix}1.25 & 0 & 0 & 0\\\\0 & 1.25 & 0 & 0\\\\0 & 0 & 1.25 & 0\\\\0 & 0 & 0 & -3.75\\end{matrix}\\right]$"
      ],
      "text/plain": [
       "Matrix([\n",
       "[1.25,    0,    0,     0],\n",
       "[   0, 1.25,    0,     0],\n",
       "[   0,    0, 1.25,     0],\n",
       "[   0,    0,    0, -3.75]])"
      ]
     },
     "execution_count": 13,
     "metadata": {},
     "output_type": "execute_result"
    }
   ],
   "source": [
    "\"\"\"\n",
    "J coupling Hamiltonian\n",
    "\"\"\";\n",
    "Hj_ST = System.Operator_BasisChange(Hj,U)\n",
    "Matrix(System.Matrix_Tol(Hj_ST,1.0e-10)/(2.0*np.pi))"
   ]
  },
  {
   "cell_type": "code",
   "execution_count": 14,
   "id": "806b2a07",
   "metadata": {},
   "outputs": [
    {
     "data": {
      "text/latex": [
       "$\\displaystyle \\left[\\begin{matrix}-15.0000000000126 & 0 & 0 & 0\\\\0 & 0 & 0 & 5.00000002530119\\\\0 & 0 & 15.0000000000126 & 0\\\\0 & 5.00000002530119 & 0 & 0\\end{matrix}\\right]$"
      ],
      "text/plain": [
       "Matrix([\n",
       "[-15.0000000000126,                0,                0,                0],\n",
       "[                0,                0,                0, 5.00000002530119],\n",
       "[                0,                0, 15.0000000000126,                0],\n",
       "[                0, 5.00000002530119,                0,                0]])"
      ]
     },
     "execution_count": 14,
     "metadata": {},
     "output_type": "execute_result"
    }
   ],
   "source": [
    "\"\"\"\n",
    "Zeeman Hamiltonian Rotating Frame\n",
    "\"\"\";\n",
    "Hzr_ST = System.Operator_BasisChange(Hzr,U)\n",
    "Matrix(System.Matrix_Tol(Hzr_ST,1.0e-10)/(2.0*np.pi))"
   ]
  },
  {
   "cell_type": "code",
   "execution_count": 15,
   "id": "8aca70be",
   "metadata": {},
   "outputs": [],
   "source": [
    "\"\"\"\n",
    "Sz Spin operator\n",
    "\"\"\";"
   ]
  },
  {
   "cell_type": "code",
   "execution_count": 16,
   "id": "e32f0143",
   "metadata": {},
   "outputs": [
    {
     "data": {
      "text/latex": [
       "$\\displaystyle \\left[\\begin{matrix}0.5 & 0 & 0 & 0\\\\0 & 0.5 & 0 & 0\\\\0 & 0 & -0.5 & 0\\\\0 & 0 & 0 & -0.5\\end{matrix}\\right]$"
      ],
      "text/plain": [
       "Matrix([\n",
       "[0.5,   0,    0,    0],\n",
       "[  0, 0.5,    0,    0],\n",
       "[  0,   0, -0.5,    0],\n",
       "[  0,   0,    0, -0.5]])"
      ]
     },
     "execution_count": 16,
     "metadata": {},
     "output_type": "execute_result"
    }
   ],
   "source": [
    "Matrix(Sz[0])"
   ]
  },
  {
   "cell_type": "code",
   "execution_count": 17,
   "id": "6d81ccc8",
   "metadata": {},
   "outputs": [
    {
     "data": {
      "text/latex": [
       "$\\displaystyle \\left[\\begin{matrix}0.5 & 0 & 0 & 0\\\\0 & 0 & 0 & 0.5\\\\0 & 0 & -0.5 & 0\\\\0 & 0.5 & 0 & 0\\end{matrix}\\right]$"
      ],
      "text/plain": [
       "Matrix([\n",
       "[0.5,   0,    0,   0],\n",
       "[  0,   0,    0, 0.5],\n",
       "[  0,   0, -0.5,   0],\n",
       "[  0, 0.5,    0,   0]])"
      ]
     },
     "execution_count": 17,
     "metadata": {},
     "output_type": "execute_result"
    }
   ],
   "source": [
    "Sz_ST = System.SpinOperator_BasisChange(Sz,U)\n",
    "Matrix(System.Matrix_Tol(Sz_ST[0],1.0e-10))"
   ]
  },
  {
   "cell_type": "code",
   "execution_count": 18,
   "id": "cb2aa90a",
   "metadata": {},
   "outputs": [],
   "source": [
    "\"\"\"\n",
    "Sx Spin operator\n",
    "\"\"\";"
   ]
  },
  {
   "cell_type": "code",
   "execution_count": 19,
   "id": "eaf479cc",
   "metadata": {},
   "outputs": [
    {
     "data": {
      "text/latex": [
       "$\\displaystyle \\left[\\begin{matrix}0 & 0 & 0.5 & 0\\\\0 & 0 & 0 & 0.5\\\\0.5 & 0 & 0 & 0\\\\0 & 0.5 & 0 & 0\\end{matrix}\\right]$"
      ],
      "text/plain": [
       "Matrix([\n",
       "[  0,   0, 0.5,   0],\n",
       "[  0,   0,   0, 0.5],\n",
       "[0.5,   0,   0,   0],\n",
       "[  0, 0.5,   0,   0]])"
      ]
     },
     "execution_count": 19,
     "metadata": {},
     "output_type": "execute_result"
    }
   ],
   "source": [
    "Matrix(Sx[0])"
   ]
  },
  {
   "cell_type": "code",
   "execution_count": 20,
   "id": "613e3f9f",
   "metadata": {},
   "outputs": [
    {
     "data": {
      "text/latex": [
       "$\\displaystyle \\left[\\begin{matrix}0 & 0.353553390593274 & 0 & -0.353553390593274\\\\0.353553390593274 & 0 & 0.353553390593274 & 0\\\\0 & 0.353553390593274 & 0 & 0.353553390593274\\\\-0.353553390593274 & 0 & 0.353553390593274 & 0\\end{matrix}\\right]$"
      ],
      "text/plain": [
       "Matrix([\n",
       "[                 0, 0.353553390593274,                 0, -0.353553390593274],\n",
       "[ 0.353553390593274,                 0, 0.353553390593274,                  0],\n",
       "[                 0, 0.353553390593274,                 0,  0.353553390593274],\n",
       "[-0.353553390593274,                 0, 0.353553390593274,                  0]])"
      ]
     },
     "execution_count": 20,
     "metadata": {},
     "output_type": "execute_result"
    }
   ],
   "source": [
    "Sx_ST = System.SpinOperator_BasisChange(Sx,U)\n",
    "Matrix(System.Matrix_Tol(Sx_ST[0],1.0e-10))"
   ]
  },
  {
   "cell_type": "code",
   "execution_count": 21,
   "id": "d4a0d39b",
   "metadata": {},
   "outputs": [],
   "source": [
    "\"\"\"\n",
    "Sy Spin operator\n",
    "\"\"\";"
   ]
  },
  {
   "cell_type": "code",
   "execution_count": 22,
   "id": "045c1626",
   "metadata": {},
   "outputs": [
    {
     "data": {
      "text/latex": [
       "$\\displaystyle \\left[\\begin{matrix}0 & 0 & - 0.5 i & 0\\\\0 & 0 & 0 & - 0.5 i\\\\0.5 i & 0 & 0 & 0\\\\0 & 0.5 i & 0 & 0\\end{matrix}\\right]$"
      ],
      "text/plain": [
       "Matrix([\n",
       "[    0,     0, -0.5*I,      0],\n",
       "[    0,     0,      0, -0.5*I],\n",
       "[0.5*I,     0,      0,      0],\n",
       "[    0, 0.5*I,      0,      0]])"
      ]
     },
     "execution_count": 22,
     "metadata": {},
     "output_type": "execute_result"
    }
   ],
   "source": [
    "Matrix(Sy[0])"
   ]
  },
  {
   "cell_type": "code",
   "execution_count": 23,
   "id": "6cd0a9ab",
   "metadata": {},
   "outputs": [
    {
     "data": {
      "text/latex": [
       "$\\displaystyle \\left[\\begin{matrix}0 & - 0.353553390593274 i & 0 & 0.353553390593274 i\\\\0.353553390593274 i & 0 & - 0.353553390593274 i & 0\\\\0 & 0.353553390593274 i & 0 & 0.353553390593274 i\\\\- 0.353553390593274 i & 0 & - 0.353553390593274 i & 0\\end{matrix}\\right]$"
      ],
      "text/plain": [
       "Matrix([\n",
       "[                   0, -0.353553390593274*I,                    0, 0.353553390593274*I],\n",
       "[ 0.353553390593274*I,                    0, -0.353553390593274*I,                   0],\n",
       "[                   0,  0.353553390593274*I,                    0, 0.353553390593274*I],\n",
       "[-0.353553390593274*I,                    0, -0.353553390593274*I,                   0]])"
      ]
     },
     "execution_count": 23,
     "metadata": {},
     "output_type": "execute_result"
    }
   ],
   "source": [
    "Sy_ST = System.SpinOperator_BasisChange(Sy,U)\n",
    "Matrix(System.Matrix_Tol(Sy_ST[0],1.0e-10))"
   ]
  },
  {
   "cell_type": "code",
   "execution_count": 24,
   "id": "894bc7a9",
   "metadata": {},
   "outputs": [
    {
     "data": {
      "text/latex": [
       "$\\displaystyle \\left[\\begin{matrix}1.25 & 0 & 0 & 0\\\\0 & 1.25 & 0 & 0\\\\0 & 0 & 1.25 & 0\\\\0 & 0 & 0 & -3.75\\end{matrix}\\right]$"
      ],
      "text/plain": [
       "Matrix([\n",
       "[1.25,    0,    0,     0],\n",
       "[   0, 1.25,    0,     0],\n",
       "[   0,    0, 1.25,     0],\n",
       "[   0,    0,    0, -3.75]])"
      ]
     },
     "execution_count": 24,
     "metadata": {},
     "output_type": "execute_result"
    }
   ],
   "source": [
    "\"\"\"\n",
    "Construct J Coupling Hamiltonian\n",
    "\"\"\"\n",
    "Hj_ST = Jlist[0][1] * (Sx_ST[0] @ Sx_ST[1] + Sy_ST[0] @ Sy_ST[1] + Sz_ST[0] @ Sz_ST[1])\n",
    "Matrix(System.Matrix_Tol(Hj_ST,1.0e-10))"
   ]
  },
  {
   "cell_type": "markdown",
   "id": "886702c7",
   "metadata": {},
   "source": [
    "## Any suggestion? write to me\n",
    "If you see something is wrong please write to me, so that the PyOR can be error free. \n",
    "\n",
    "vineethfrancis.physics@gmail.com"
   ]
  }
 ],
 "metadata": {
  "kernelspec": {
   "display_name": "Python 3 (ipykernel)",
   "language": "python",
   "name": "python3"
  },
  "language_info": {
   "codemirror_mode": {
    "name": "ipython",
    "version": 3
   },
   "file_extension": ".py",
   "mimetype": "text/x-python",
   "name": "python",
   "nbconvert_exporter": "python",
   "pygments_lexer": "ipython3",
   "version": "3.9.7"
  }
 },
 "nbformat": 4,
 "nbformat_minor": 5
}
