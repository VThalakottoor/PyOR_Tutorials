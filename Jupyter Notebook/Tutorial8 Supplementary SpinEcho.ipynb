{
 "cells": [
  {
   "cell_type": "markdown",
   "id": "6718709f",
   "metadata": {},
   "source": [
    "# Python On Resonance (PyOR)\n",
    "## Everybody can simulate NMR\n",
    "\n",
    "Author: Vineeth Thalakottoor \n",
    "\n",
    "Email: vineethfrancis.physics@gmail.com"
   ]
  },
  {
   "cell_type": "markdown",
   "id": "27377342",
   "metadata": {},
   "source": [
    "## Tutorial 8: Supplementary - Spin Echo\n",
    "Spin Echo is the main ingredient of INEPT. Let see how spin echo works. We have two spins (H1 and C13) with J coupling (Hetronuclear).\n",
    "\n",
    "Referece book - \"NMR: The Toolkit, How Pulse Sequences Work\" by P.J Hore, J.A. Jones and S. Wimperis"
   ]
  },
  {
   "cell_type": "markdown",
   "id": "9a604590",
   "metadata": {},
   "source": [
    "## Load Python packages and define path to the source file \"PythonOnResonance.py\""
   ]
  },
  {
   "cell_type": "code",
   "execution_count": 1,
   "id": "46ad2cad",
   "metadata": {},
   "outputs": [],
   "source": [
    "pathSource = '/media/HD2/Vineeth/PostDoc_Simulations/Github/PyOR_G/Source'"
   ]
  },
  {
   "cell_type": "code",
   "execution_count": 2,
   "id": "aec6a6c2",
   "metadata": {},
   "outputs": [
    {
     "data": {
      "text/html": [
       "<style>.container { width:100% !important; }</style>"
      ],
      "text/plain": [
       "<IPython.core.display.HTML object>"
      ]
     },
     "metadata": {},
     "output_type": "display_data"
    }
   ],
   "source": [
    "from IPython.display import display, HTML\n",
    "display(HTML(\"<style>.container { width:100% !important; }</style>\"))\n",
    "import sys\n",
    "sys.path.append(pathSource)\n",
    "\n",
    "import PythonOnResonance as PyOR\n",
    "\n",
    "import time\n",
    "import numpy as np\n",
    "import matplotlib.pyplot as plt\n",
    "from matplotlib import rc\n",
    "%matplotlib notebook\n",
    "import sympy as sp\n",
    "from sympy import *\n",
    "from IPython.display import display, Math, Latex"
   ]
  },
  {
   "cell_type": "markdown",
   "id": "348e01cb",
   "metadata": {},
   "source": [
    "## Generating Spin System"
   ]
  },
  {
   "cell_type": "code",
   "execution_count": 3,
   "id": "ab0e39a3",
   "metadata": {},
   "outputs": [],
   "source": [
    "\"\"\"\n",
    "Define Spin quantum numbers of your spins in \"Slist1\".\n",
    "Slist1[0] is spin of first particle and Slist1[1] is spin of second particle.\n",
    "\"\"\";\n",
    "\n",
    "Slist1 = [1/2,1/2]"
   ]
  },
  {
   "cell_type": "code",
   "execution_count": 4,
   "id": "37ebf61c",
   "metadata": {},
   "outputs": [],
   "source": [
    "\"\"\"\n",
    "Define Planck constant equals 1. \n",
    "Because NMR spectroscopists are more interested to write Energy in frequency units. \n",
    "if False then hbarEQ1 = hbar\n",
    "\"\"\";\n",
    "\n",
    "hbarEQ1 = True"
   ]
  },
  {
   "cell_type": "code",
   "execution_count": 5,
   "id": "ed076c53",
   "metadata": {},
   "outputs": [],
   "source": [
    "\"\"\"\n",
    "Generate Spin Operators\n",
    "\"\"\";\n",
    "\n",
    "System = PyOR.Numerical_MR(Slist1,hbarEQ1)\n",
    "\n",
    "\"\"\"\n",
    "Sx, Sy and Sz Operators\n",
    "\"\"\";\n",
    "Sx,Sy,Sz = System.SpinOperator()\n",
    "\n",
    "\"\"\"\n",
    "S+ and S- Operators\n",
    "\"\"\";\n",
    "Sp,Sm = System.PMoperators(Sx,Sy)"
   ]
  },
  {
   "cell_type": "markdown",
   "id": "837c0451",
   "metadata": {},
   "source": [
    "## Zeeman Hamiltonian in Lab Frame"
   ]
  },
  {
   "cell_type": "code",
   "execution_count": 6,
   "id": "770f663c",
   "metadata": {},
   "outputs": [
    {
     "name": "stdout",
     "output_type": "stream",
     "text": [
      "Larmor Frequency in MHz:  [-400.22802765 -100.65886793]\n"
     ]
    }
   ],
   "source": [
    "\"\"\"\n",
    "Gyromagnetic Ratio\n",
    "Gamma = [Gyromagnetic Ratio spin 1, Gyromagnetic Ratio spin 1, ...]\n",
    "\"\"\";\n",
    "Gamma = [System.gammaH1,System.gammaC13]\n",
    "\n",
    "\"\"\"\n",
    "Define the field of the spectromter, B0 in Tesla.\n",
    "\"\"\"\n",
    "B0 = 9.4\n",
    "\n",
    "\"\"\"\n",
    "Define the chemical Shift of individual spins\n",
    "Offset = [chemical Shift spin 1, chemical Shift spin 1, ..]\n",
    "\"\"\"\n",
    "Offset = [10,0] # Offset frequency in Hz\n",
    "\n",
    "\"\"\"\n",
    "Function \"LarmorF\" give the list Larmor frequencies of individual spins in lab frame\n",
    "\"\"\"\n",
    "LarmorF = System.LarmorFrequency(Gamma,B0,Offset)\n",
    "\n",
    "Hz = System.Zeeman(LarmorF,Sz)"
   ]
  },
  {
   "cell_type": "markdown",
   "id": "d7fe62ff",
   "metadata": {},
   "source": [
    "## Initialize Density Matrix"
   ]
  },
  {
   "cell_type": "code",
   "execution_count": 7,
   "id": "15ba3521",
   "metadata": {},
   "outputs": [
    {
     "name": "stdout",
     "output_type": "stream",
     "text": [
      "Trace of density metrix =  0j\n"
     ]
    }
   ],
   "source": [
    "\"\"\"\n",
    "We will generate Initial Density Matrix in two ways: \n",
    "First we will generate a density matrix as we prefer say, Sz. \n",
    "Second we will create density matrix at thermal equlibrium\n",
    "\n",
    "First Case\n",
    "\"\"\";\n",
    "\n",
    "Thermal_DensMatrix = False \n",
    "\n",
    "if Thermal_DensMatrix:\n",
    "    Hz_EnUnit = System.Convert_FreqUnitsTOEnergy(Hz)\n",
    "    HT_approx = False # High Temperature Approximation is False\n",
    "    T = 300 # Temperature in Kelvin\n",
    "    rho_in = System.EqulibriumDensityMatrix(Hz_EnUnit,T,HT_approx)\n",
    "    rhoeq = rho_in.copy()   \n",
    "else:\n",
    "    rho_in = np.sum(Sz,axis=0) # Initial Density Matrix\n",
    "    rhoeq = np.sum(Sz,axis=0)  # Equlibrium Density Matrix   \n",
    "    print(\"Trace of density metrix = \", np.trace(rho_in))"
   ]
  },
  {
   "cell_type": "code",
   "execution_count": 8,
   "id": "b9879417",
   "metadata": {
    "scrolled": false
   },
   "outputs": [
    {
     "data": {
      "text/latex": [
       "Basis: $\\frac{1}{2}E$,$I_{x}$,$I_{y}$,$I_{z}$,$S_{x}$,$S_{y}$,$S_{z}$,2$I_{x}S_{z}$,2$I_{y}S_{z}$,2$I_{z}S_{x}$,2$I_{z}S_{y}$,2$I_{z}S_{z}$,2$I_{x}S_{x}$,2$I_{x}S_{y}$,2$I_{y}S_{x}$,2$I_{y}S_{y}$"
      ],
      "text/plain": [
       "<IPython.core.display.Latex object>"
      ]
     },
     "metadata": {},
     "output_type": "display_data"
    }
   ],
   "source": [
    "'''\n",
    "Operator Basis\n",
    "Option: 'Cartesian spin half' and 'PMZ spin half'\n",
    "All the 16 operator basis are loaded in the matrix, 'B_car'\n",
    "''';\n",
    "Basis = 'Cartesian spin half'\n",
    "B_car = System.TwoSpinOP(Sx,Sy,Sz,Sp,Sm,Basis)"
   ]
  },
  {
   "cell_type": "code",
   "execution_count": 9,
   "id": "e254d8fe",
   "metadata": {},
   "outputs": [
    {
     "data": {
      "text/latex": [
       "Basis: B0 = $\\frac{1}{2}E$, B1 = $I_{x}$, B2 = $I_{y}$, B3 = $I_{z}$, B4 = $S_{x}$, B5 = $S_{y}$, B6 = $S_{z}$, B7 = 2$I_{x}S_{z}$, B8 = 2$I_{y}S_{z}$, B9 = 2$I_{z}S_{x}$, B10 = 2$I_{z}S_{y}$, B11 = 2$I_{z}S_{z}$, B12 = 2$I_{x}S_{x}$, B13 = 2$I_{x}S_{y}$, B14 = 2$I_{y}S_{x}$, B15 = 2$I_{y}S_{y}$"
      ],
      "text/plain": [
       "<IPython.core.display.Latex object>"
      ]
     },
     "metadata": {},
     "output_type": "display_data"
    }
   ],
   "source": [
    "'''\n",
    "B_car[0] = B0 = 1/2 E,\n",
    "B_car[1] = B1 = Ix,\n",
    "so on...\n",
    "Hope you understand.\n",
    "'''\n",
    "System.OperatorBasis('Cartesian')"
   ]
  },
  {
   "cell_type": "code",
   "execution_count": 10,
   "id": "70a56bff",
   "metadata": {},
   "outputs": [
    {
     "data": {
      "text/latex": [
       "$\\displaystyle \\left[\\begin{matrix}0\\\\0\\\\0\\\\1.0\\\\0\\\\0\\\\1.0\\\\0\\\\0\\\\0\\\\0\\\\0\\\\0\\\\0\\\\0\\\\0\\end{matrix}\\right]$"
      ],
      "text/plain": [
       "Matrix([\n",
       "[  0],\n",
       "[  0],\n",
       "[  0],\n",
       "[1.0],\n",
       "[  0],\n",
       "[  0],\n",
       "[1.0],\n",
       "[  0],\n",
       "[  0],\n",
       "[  0],\n",
       "[  0],\n",
       "[  0],\n",
       "[  0],\n",
       "[  0],\n",
       "[  0],\n",
       "[  0]])"
      ]
     },
     "execution_count": 10,
     "metadata": {},
     "output_type": "execute_result"
    }
   ],
   "source": [
    "'''\n",
    "A density matrix (rho) can be written as:\n",
    "rho = a B0 + b B1 + c B2 + ...\n",
    "where B0, B1,... are operator basis.\n",
    "\n",
    "Components of initial density matrix in cartesian basis\n",
    "''';\n",
    "Matrix(System.DensityMatrix_Components(B_car,rho_in))"
   ]
  },
  {
   "cell_type": "markdown",
   "id": "38a1a1a7",
   "metadata": {},
   "source": [
    "## Zeeman Halitonian in Rotating Frame"
   ]
  },
  {
   "cell_type": "code",
   "execution_count": 11,
   "id": "6c6ed186",
   "metadata": {},
   "outputs": [],
   "source": [
    "OmegaRF = [-System.gammaH1*B0,-System.gammaC13*B0]\n",
    "Hzr = System.Zeeman_RotFrame(LarmorF, Sz, OmegaRF)"
   ]
  },
  {
   "cell_type": "markdown",
   "id": "d8f26216",
   "metadata": {},
   "source": [
    "## J Coupling Hamiltonian"
   ]
  },
  {
   "cell_type": "code",
   "execution_count": 12,
   "id": "e40c7b46",
   "metadata": {},
   "outputs": [],
   "source": [
    "\"\"\"\n",
    "Define J Coupling between each spins, Jlist[0][3] means J coupling between 1st spin and 4th spin.\n",
    "\"\"\"\n",
    "\n",
    "Jlist = np.zeros((len(Slist1),len(Slist1)))\n",
    "Jlist[0][1] = 150\n",
    "\n",
    "Hj = System.Jcoupling_Weak(Jlist,Sz)"
   ]
  },
  {
   "cell_type": "markdown",
   "id": "27ba1da2",
   "metadata": {},
   "source": [
    "## Relaxation Constant"
   ]
  },
  {
   "cell_type": "code",
   "execution_count": 13,
   "id": "f6cf41a8",
   "metadata": {},
   "outputs": [],
   "source": [
    "'''\n",
    "Define longitudinal (R1) and transverse Relaxation (R2)\n",
    "''';\n",
    "\n",
    "R1 = 1.0\n",
    "R2 = 2.0\n",
    "System.Relaxation_Constants(R1,R2)\n",
    "\n",
    "'''\n",
    "Options for \"Rprocess\": \"No Relaxation\" or \"Phenomenological\" \n",
    "                         or \"Random Field Fluxtuation\" or \"Dipolar\"\n",
    "''';\n",
    "Rprocess = \"No Relaxation\""
   ]
  },
  {
   "cell_type": "markdown",
   "id": "5ce743e8",
   "metadata": {},
   "source": [
    "## Pulse 90x on H1"
   ]
  },
  {
   "cell_type": "code",
   "execution_count": 23,
   "id": "a7a3684e",
   "metadata": {},
   "outputs": [],
   "source": [
    "pulse_angle = 90.0\n",
    "rho = System.Rotate_H(rho_in,pulse_angle,Sx[0]) "
   ]
  },
  {
   "cell_type": "code",
   "execution_count": 24,
   "id": "215ef669",
   "metadata": {},
   "outputs": [
    {
     "data": {
      "text/latex": [
       "$\\displaystyle \\left[\\begin{matrix}0\\\\0\\\\-1.0\\\\0\\\\0\\\\0\\\\1.0\\\\0\\\\0\\\\0\\\\0\\\\0\\\\0\\\\0\\\\0\\\\0\\end{matrix}\\right]$"
      ],
      "text/plain": [
       "Matrix([\n",
       "[   0],\n",
       "[   0],\n",
       "[-1.0],\n",
       "[   0],\n",
       "[   0],\n",
       "[   0],\n",
       "[ 1.0],\n",
       "[   0],\n",
       "[   0],\n",
       "[   0],\n",
       "[   0],\n",
       "[   0],\n",
       "[   0],\n",
       "[   0],\n",
       "[   0],\n",
       "[   0]])"
      ]
     },
     "execution_count": 24,
     "metadata": {},
     "output_type": "execute_result"
    }
   ],
   "source": [
    "'''\n",
    "Components of density matrix in cartesian basis after 90x on H1\n",
    "So for H1; rho = -Iy\n",
    "''';\n",
    "Matrix(System.DensityMatrix_Components(B_car,rho))"
   ]
  },
  {
   "cell_type": "markdown",
   "id": "802af854",
   "metadata": {},
   "source": [
    "## First Delay"
   ]
  },
  {
   "cell_type": "code",
   "execution_count": 16,
   "id": "6fe73b36",
   "metadata": {},
   "outputs": [
    {
     "name": "stdout",
     "output_type": "stream",
     "text": [
      "Number of points in the simulation 16\n",
      "Total time = 0.001171112060546875 seconds \n"
     ]
    }
   ],
   "source": [
    "dt = 1.0e-4\n",
    "fs = 1.0/dt\n",
    "delay = 1/(4*Jlist[0][1])\n",
    "Npoints = int(delay/dt)\n",
    "print(\"Number of points in the simulation\", Npoints)\n",
    "\n",
    "\"\"\"\n",
    "option for solver, \"method\": \"Unitary Propagator\" or \"ODE Solver\"\n",
    "\"\"\"\n",
    "method = \"Unitary Propagator\"\n",
    "\n",
    "start_time = time.time()\n",
    "t, rho_t = System.Evolution_H(rhoeq,rho,Sx,Sy,Sz,Sp,Sm,Hzr + Hj,dt,Npoints,method,Rprocess)\n",
    "end_time = time.time()\n",
    "timetaken = end_time - start_time\n",
    "print(\"Total time = %s seconds \" % (timetaken))"
   ]
  },
  {
   "cell_type": "code",
   "execution_count": 17,
   "id": "60bb9c01",
   "metadata": {},
   "outputs": [
    {
     "data": {
      "text/latex": [
       "$\\displaystyle \\left[\\begin{matrix}0\\\\-0.0731605413363614\\\\-0.725288077218995\\\\0\\\\0\\\\0\\\\1.0\\\\0.681090839232821\\\\-0.0687023212742848\\\\0\\\\0\\\\0\\\\0\\\\0\\\\0\\\\0\\end{matrix}\\right]$"
      ],
      "text/plain": [
       "Matrix([\n",
       "[                  0],\n",
       "[-0.0731605413363614],\n",
       "[ -0.725288077218995],\n",
       "[                  0],\n",
       "[                  0],\n",
       "[                  0],\n",
       "[                1.0],\n",
       "[  0.681090839232821],\n",
       "[-0.0687023212742848],\n",
       "[                  0],\n",
       "[                  0],\n",
       "[                  0],\n",
       "[                  0],\n",
       "[                  0],\n",
       "[                  0],\n",
       "[                  0]])"
      ]
     },
     "execution_count": 17,
     "metadata": {},
     "output_type": "execute_result"
    }
   ],
   "source": [
    "'''\n",
    "Components of density matrix in cartesian basis after the first delay\n",
    "So for H1; rho = a Ix + b Iy + c 2IxSz + d 2IySz\n",
    "''';\n",
    "Matrix(System.DensityMatrix_Components(B_car,rho_t[-1]))"
   ]
  },
  {
   "cell_type": "markdown",
   "id": "4ea5b6bc",
   "metadata": {},
   "source": [
    "## Pulse 180y on H1"
   ]
  },
  {
   "cell_type": "code",
   "execution_count": 18,
   "id": "2f246fe3",
   "metadata": {},
   "outputs": [],
   "source": [
    "pulse_angle = 180.0\n",
    "rho = System.Rotate_H(rho_t[-1],pulse_angle,Sy[0]) "
   ]
  },
  {
   "cell_type": "code",
   "execution_count": 19,
   "id": "c0278eab",
   "metadata": {},
   "outputs": [
    {
     "data": {
      "text/latex": [
       "$\\displaystyle \\left[\\begin{matrix}0\\\\0.0731605413363614\\\\-0.725288077218995\\\\0\\\\0\\\\0\\\\1.0\\\\-0.681090839232821\\\\-0.0687023212742848\\\\0\\\\0\\\\0\\\\0\\\\0\\\\0\\\\0\\end{matrix}\\right]$"
      ],
      "text/plain": [
       "Matrix([\n",
       "[                  0],\n",
       "[ 0.0731605413363614],\n",
       "[ -0.725288077218995],\n",
       "[                  0],\n",
       "[                  0],\n",
       "[                  0],\n",
       "[                1.0],\n",
       "[ -0.681090839232821],\n",
       "[-0.0687023212742848],\n",
       "[                  0],\n",
       "[                  0],\n",
       "[                  0],\n",
       "[                  0],\n",
       "[                  0],\n",
       "[                  0],\n",
       "[                  0]])"
      ]
     },
     "execution_count": 19,
     "metadata": {},
     "output_type": "execute_result"
    }
   ],
   "source": [
    "'''\n",
    "Components of density matrix in cartesian basis after 180y pulse on H1\n",
    "So for H1; rho = a Ix + b Iy + c 2IxSz + d 2IySz\n",
    "''';\n",
    "Matrix(System.DensityMatrix_Components(B_car,rho))"
   ]
  },
  {
   "cell_type": "markdown",
   "id": "47269bc9",
   "metadata": {},
   "source": [
    "## Second Delay"
   ]
  },
  {
   "cell_type": "code",
   "execution_count": 20,
   "id": "baf5fb1c",
   "metadata": {},
   "outputs": [
    {
     "name": "stdout",
     "output_type": "stream",
     "text": [
      "Number of points in the simulation 16\n",
      "Total time = 0.001230001449584961 seconds \n"
     ]
    }
   ],
   "source": [
    "dt = 1.0e-4\n",
    "fs = 1.0/dt\n",
    "delay = 1/(4*Jlist[0][1])\n",
    "Npoints = int(delay/dt)\n",
    "print(\"Number of points in the simulation\", Npoints)\n",
    "\n",
    "\"\"\"\n",
    "option for solver, \"method\": \"Unitary Propagator\" or \"ODE Solver\"\n",
    "\"\"\"\n",
    "method = \"Unitary Propagator\"\n",
    "\n",
    "start_time = time.time()\n",
    "t, rho_t = System.Evolution_H(rhoeq,rho,Sx,Sy,Sz,Sp,Sm,Hzr + Hj,dt,Npoints,method,Rprocess)\n",
    "end_time = time.time()\n",
    "timetaken = end_time - start_time\n",
    "print(\"Total time = %s seconds \" % (timetaken))"
   ]
  },
  {
   "cell_type": "code",
   "execution_count": 21,
   "id": "45a5dbd1",
   "metadata": {},
   "outputs": [
    {
     "data": {
      "text/latex": [
       "$\\displaystyle \\left[\\begin{matrix}0\\\\0\\\\-1.0\\\\0\\\\0\\\\0\\\\0.999999999999999\\\\0\\\\0\\\\0\\\\0\\\\0\\\\0\\\\0\\\\0\\\\0\\end{matrix}\\right]$"
      ],
      "text/plain": [
       "Matrix([\n",
       "[                0],\n",
       "[                0],\n",
       "[             -1.0],\n",
       "[                0],\n",
       "[                0],\n",
       "[                0],\n",
       "[0.999999999999999],\n",
       "[                0],\n",
       "[                0],\n",
       "[                0],\n",
       "[                0],\n",
       "[                0],\n",
       "[                0],\n",
       "[                0],\n",
       "[                0],\n",
       "[                0]])"
      ]
     },
     "execution_count": 21,
     "metadata": {},
     "output_type": "execute_result"
    }
   ],
   "source": [
    "'''\n",
    "Components of density matrix in cartesian basis after the secondst delay\n",
    "So for H1; rho = -Iy\n",
    "''';\n",
    "Matrix(System.DensityMatrix_Components(B_car,rho_t[-1]))"
   ]
  },
  {
   "cell_type": "markdown",
   "id": "d328b987",
   "metadata": {},
   "source": [
    "## Conclusion\n",
    "For Hetronuclear spin system, after delay + 180y on I + delay, J coupling and chemical shift have been refocused."
   ]
  },
  {
   "cell_type": "markdown",
   "id": "13992235",
   "metadata": {},
   "source": [
    "## Next tutorial: COSY"
   ]
  },
  {
   "cell_type": "markdown",
   "id": "886702c7",
   "metadata": {},
   "source": [
    "## Any suggestion? write to me\n",
    "If you see something is wrong please write to me, so that the PyOR can be error free. \n",
    "\n",
    "vineethfrancis.physics@gmail.com"
   ]
  },
  {
   "cell_type": "code",
   "execution_count": null,
   "id": "398aa789",
   "metadata": {},
   "outputs": [],
   "source": []
  }
 ],
 "metadata": {
  "kernelspec": {
   "display_name": "Python 3 (ipykernel)",
   "language": "python",
   "name": "python3"
  },
  "language_info": {
   "codemirror_mode": {
    "name": "ipython",
    "version": 3
   },
   "file_extension": ".py",
   "mimetype": "text/x-python",
   "name": "python",
   "nbconvert_exporter": "python",
   "pygments_lexer": "ipython3",
   "version": "3.9.7"
  }
 },
 "nbformat": 4,
 "nbformat_minor": 5
}
