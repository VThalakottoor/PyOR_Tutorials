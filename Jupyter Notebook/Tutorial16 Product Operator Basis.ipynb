{
 "cells": [
  {
   "cell_type": "markdown",
   "id": "db02aa50",
   "metadata": {},
   "source": [
    "# Python On Resonance (PyOR)\n",
    "## Everybody can simulate NMR\n",
    "\n",
    "Author: Vineeth Thalakottoor \n",
    "\n",
    "Email: vineethfrancis.physics@gmail.com"
   ]
  },
  {
   "cell_type": "markdown",
   "id": "b74d74cf",
   "metadata": {},
   "source": [
    "## Tutorial 16: Product Operator Basis\n",
    "In this tutorial we will see how to make operator basis for a given particle with any spin quantum number"
   ]
  },
  {
   "cell_type": "markdown",
   "id": "eafe32d5",
   "metadata": {},
   "source": [
    "## Load Python packages and define path to the source file \"PythonOnResonance.py\""
   ]
  },
  {
   "cell_type": "code",
   "execution_count": 1,
   "id": "53564ee3",
   "metadata": {},
   "outputs": [],
   "source": [
    "pathSource = '/media/HD2/Vineeth/PostDoc_Simulations/Github/PyOR_v1.0/Source'"
   ]
  },
  {
   "cell_type": "code",
   "execution_count": 2,
   "id": "c383deb3",
   "metadata": {},
   "outputs": [
    {
     "data": {
      "text/html": [
       "<style>.container { width:100% !important; }</style>"
      ],
      "text/plain": [
       "<IPython.core.display.HTML object>"
      ]
     },
     "metadata": {},
     "output_type": "display_data"
    }
   ],
   "source": [
    "from IPython.display import display, HTML\n",
    "display(HTML(\"<style>.container { width:100% !important; }</style>\"))\n",
    "import sys\n",
    "sys.path.append(pathSource)\n",
    "\n",
    "import PythonOnResonance as PyOR\n",
    "\n",
    "import time\n",
    "import numpy as np\n",
    "import matplotlib.pyplot as plt\n",
    "from matplotlib import rc\n",
    "%matplotlib notebook\n",
    "import sympy as sp\n",
    "from sympy import *"
   ]
  },
  {
   "cell_type": "code",
   "execution_count": 3,
   "id": "5f6ca35c",
   "metadata": {},
   "outputs": [],
   "source": [
    "Slist1 = [1/2]\n",
    "hbarEQ1 = True\n",
    "System = PyOR.Numerical_MR(Slist1,hbarEQ1)"
   ]
  },
  {
   "cell_type": "code",
   "execution_count": 4,
   "id": "f44bbcce",
   "metadata": {},
   "outputs": [
    {
     "name": "stdout",
     "output_type": "stream",
     "text": [
      "Coherence Order:  [0, -1, 0, 1]\n",
      "LM state:  [(0, 0), (1, -1), (1, 0), (1, 1)]\n"
     ]
    }
   ],
   "source": [
    "\"\"\"\n",
    "Polarization Operator Basis for particle with any spin quantum number  \n",
    "let S = 1/2\n",
    "\"\"\";\n",
    "\n",
    "pol_basis_half, Coherence_order, LM_state = System.Polarization_OpBasis(1/2)"
   ]
  },
  {
   "cell_type": "code",
   "execution_count": 5,
   "id": "290a3480",
   "metadata": {},
   "outputs": [
    {
     "name": "stdout",
     "output_type": "stream",
     "text": [
      "Coherence order:  [0, -1, 0, 1]\n"
     ]
    }
   ],
   "source": [
    "print(\"Coherence order: \", Coherence_order)"
   ]
  },
  {
   "cell_type": "code",
   "execution_count": 6,
   "id": "a511d525",
   "metadata": {},
   "outputs": [
    {
     "name": "stdout",
     "output_type": "stream",
     "text": [
      "Polarization operator, (L,M):  [(0, 0), (1, -1), (1, 0), (1, 1)]\n"
     ]
    }
   ],
   "source": [
    "print(\"Polarization operator, (L,M): \", LM_state)"
   ]
  },
  {
   "cell_type": "code",
   "execution_count": 7,
   "id": "504d1d19",
   "metadata": {},
   "outputs": [
    {
     "data": {
      "text/latex": [
       "$\\displaystyle \\left[\\begin{matrix}1.0 & 0\\\\0 & 1.0\\end{matrix}\\right]$"
      ],
      "text/plain": [
       "Matrix([\n",
       "[1.0,   0],\n",
       "[  0, 1.0]])"
      ]
     },
     "execution_count": 7,
     "metadata": {},
     "output_type": "execute_result"
    }
   ],
   "source": [
    "Matrix(np.sqrt(2) * pol_basis_half[0]) # T(0,0)"
   ]
  },
  {
   "cell_type": "code",
   "execution_count": 8,
   "id": "b5dac938",
   "metadata": {},
   "outputs": [
    {
     "data": {
      "text/latex": [
       "$\\displaystyle \\left[\\begin{matrix}0 & 0\\\\1.0 & 0\\end{matrix}\\right]$"
      ],
      "text/plain": [
       "Matrix([\n",
       "[  0, 0],\n",
       "[1.0, 0]])"
      ]
     },
     "execution_count": 8,
     "metadata": {},
     "output_type": "execute_result"
    }
   ],
   "source": [
    "Matrix(pol_basis_half[1]) # T(1,-1)"
   ]
  },
  {
   "cell_type": "code",
   "execution_count": 9,
   "id": "81d1cdda",
   "metadata": {},
   "outputs": [
    {
     "data": {
      "text/latex": [
       "$\\displaystyle \\left[\\begin{matrix}1.0 & 0\\\\0 & -1.0\\end{matrix}\\right]$"
      ],
      "text/plain": [
       "Matrix([\n",
       "[1.0,    0],\n",
       "[  0, -1.0]])"
      ]
     },
     "execution_count": 9,
     "metadata": {},
     "output_type": "execute_result"
    }
   ],
   "source": [
    "Matrix(np.sqrt(2) * pol_basis_half[2]) # T(1,0)"
   ]
  },
  {
   "cell_type": "code",
   "execution_count": 10,
   "id": "106659c8",
   "metadata": {},
   "outputs": [
    {
     "data": {
      "text/latex": [
       "$\\displaystyle \\left[\\begin{matrix}0 & -1.0\\\\0 & 0\\end{matrix}\\right]$"
      ],
      "text/plain": [
       "Matrix([\n",
       "[0, -1.0],\n",
       "[0,    0]])"
      ]
     },
     "execution_count": 10,
     "metadata": {},
     "output_type": "execute_result"
    }
   ],
   "source": [
    "Matrix(pol_basis_half[3]) # T(1,1)"
   ]
  },
  {
   "cell_type": "code",
   "execution_count": 11,
   "id": "e19b776e",
   "metadata": {},
   "outputs": [
    {
     "name": "stdout",
     "output_type": "stream",
     "text": [
      "Coherence Order:  [0, -1, 0, 1, -2, -1, 0, 1, 2]\n",
      "LM state:  [(0, 0), (1, -1), (1, 0), (1, 1), (2, -2), (2, -1), (2, 0), (2, 1), (2, 2)]\n"
     ]
    }
   ],
   "source": [
    "\"\"\"\n",
    "Polarization Operator Basis for particle with any spin quantum number  \n",
    "let S = 1\n",
    "\"\"\";\n",
    "\n",
    "pol_basis_one, Coherence_order, LM_state = System.Polarization_OpBasis(1)"
   ]
  },
  {
   "cell_type": "code",
   "execution_count": 12,
   "id": "21ee2e1b",
   "metadata": {},
   "outputs": [
    {
     "data": {
      "text/latex": [
       "$\\displaystyle \\left[\\begin{matrix}1.0 & 0 & 0\\\\0 & 1.0 & 0\\\\0 & 0 & 1.0\\end{matrix}\\right]$"
      ],
      "text/plain": [
       "Matrix([\n",
       "[1.0,   0,   0],\n",
       "[  0, 1.0,   0],\n",
       "[  0,   0, 1.0]])"
      ]
     },
     "execution_count": 12,
     "metadata": {},
     "output_type": "execute_result"
    }
   ],
   "source": [
    "Matrix(np.sqrt(3) * pol_basis_one[0]) # T(0,0)"
   ]
  },
  {
   "cell_type": "code",
   "execution_count": 13,
   "id": "afe087ea",
   "metadata": {},
   "outputs": [
    {
     "data": {
      "text/latex": [
       "$\\displaystyle \\left[\\begin{matrix}0 & 0 & 0\\\\1.0 & 0 & 0\\\\0 & 1.0 & 0\\end{matrix}\\right]$"
      ],
      "text/plain": [
       "Matrix([\n",
       "[  0,   0, 0],\n",
       "[1.0,   0, 0],\n",
       "[  0, 1.0, 0]])"
      ]
     },
     "execution_count": 13,
     "metadata": {},
     "output_type": "execute_result"
    }
   ],
   "source": [
    "Matrix(np.sqrt(2) * pol_basis_one[1]) # T(1,-1)"
   ]
  },
  {
   "cell_type": "code",
   "execution_count": 14,
   "id": "9f404d79",
   "metadata": {},
   "outputs": [
    {
     "data": {
      "text/latex": [
       "$\\displaystyle \\left[\\begin{matrix}0 & 0 & 0\\\\0 & 0 & 0\\\\1.0 & 0 & 0\\end{matrix}\\right]$"
      ],
      "text/plain": [
       "Matrix([\n",
       "[  0, 0, 0],\n",
       "[  0, 0, 0],\n",
       "[1.0, 0, 0]])"
      ]
     },
     "execution_count": 14,
     "metadata": {},
     "output_type": "execute_result"
    }
   ],
   "source": [
    "Matrix(pol_basis_one[4]) # T(2,-2)"
   ]
  },
  {
   "cell_type": "code",
   "execution_count": 15,
   "id": "87420145",
   "metadata": {},
   "outputs": [
    {
     "data": {
      "text/latex": [
       "$\\displaystyle \\left[\\begin{matrix}0 & 0 & 1.0\\\\0 & 0 & 0\\\\0 & 0 & 0\\end{matrix}\\right]$"
      ],
      "text/plain": [
       "Matrix([\n",
       "[0, 0, 1.0],\n",
       "[0, 0,   0],\n",
       "[0, 0,   0]])"
      ]
     },
     "execution_count": 15,
     "metadata": {},
     "output_type": "execute_result"
    }
   ],
   "source": [
    "Matrix(pol_basis_one[8]) # T(2,2)"
   ]
  },
  {
   "cell_type": "markdown",
   "id": "99a19db1",
   "metadata": {},
   "source": [
    "## Any suggestion? write to me\n",
    "If you see something is wrong please write to me, so that the PyOR can be error free. \n",
    "\n",
    "vineethfrancis.physics@gmail.com"
   ]
  }
 ],
 "metadata": {
  "kernelspec": {
   "display_name": "Python 3 (ipykernel)",
   "language": "python",
   "name": "python3"
  },
  "language_info": {
   "codemirror_mode": {
    "name": "ipython",
    "version": 3
   },
   "file_extension": ".py",
   "mimetype": "text/x-python",
   "name": "python",
   "nbconvert_exporter": "python",
   "pygments_lexer": "ipython3",
   "version": "3.9.7"
  }
 },
 "nbformat": 4,
 "nbformat_minor": 5
}
