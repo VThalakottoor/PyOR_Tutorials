{
 "cells": [
  {
   "cell_type": "markdown",
   "id": "82967ac5",
   "metadata": {},
   "source": [
    "# Python On Resonance (PyOR)\n",
    "## Everybody can simulate NMR\n",
    "\n",
    "Author: Vineeth Thalakottoor @ ENS, Paris\n",
    "\n",
    "Email: vineethfrancis.physics@gmail.com"
   ]
  },
  {
   "cell_type": "code",
   "execution_count": 1,
   "id": "2eb96d72",
   "metadata": {},
   "outputs": [
    {
     "data": {
      "text/html": [
       "<style>.container { width:100% !important; }</style>"
      ],
      "text/plain": [
       "<IPython.core.display.HTML object>"
      ]
     },
     "metadata": {},
     "output_type": "display_data"
    }
   ],
   "source": [
    "from IPython.display import display, HTML\n",
    "display(HTML(\"<style>.container { width:100% !important; }</style>\"))"
   ]
  },
  {
   "cell_type": "markdown",
   "id": "5e17d15f",
   "metadata": {},
   "source": [
    "# Tutorial 16 Redfield and Lindblad Master Equation\n",
    "\n",
    "In this tutorial I will show Redfield and Lindblad Master Equation, their differences and how to implement them numercially. This tutorial is only for **two spin half system** and **HOMONUCLEAR** dipolar relaxation mechanism, and focused on numerical computation point of view. \n",
    "\n",
    "Reference 1 : Protein NMR Spectroscopy Principles and Practice, John Cavanagh, et. al. (Edition 1$^{st}$).\n",
    "\n",
    "Reference 2 : A master equation for spin systems far from equilibrium, Bengs and Levitt, J.M.R, 310, 2020."
   ]
  },
  {
   "cell_type": "markdown",
   "id": "89ea1a75",
   "metadata": {},
   "source": [
    "## Liouville-von Neumann equation\n",
    "\n",
    "The Liouville-von Neumann equation,\n",
    "\n",
    "$$\n",
    "\\frac{d}{dt} \\rho = \\frac{-i}{\\hbar} [H_{0},\\rho]\n",
    "$$\n",
    "\n",
    "has a solution given by, $\\rho (t) = e^{i H_{0} t} \\rho(0) e^{-i H_{0} t}$. From computation point of view, both $\\rho$ (density matrix) and $H_{0}$ (Hamiltonian) are $4 \\times 4$ matrices. We call the vector space where $\\rho_{4 \\times 4}$ lies Hilbert space.\n",
    "\n",
    "What if we can write Liouville-von Neumann equation as\n",
    "\n",
    "$$\n",
    "\\frac{d}{dt} \\tilde{\\rho} = \\frac{-i}{\\hbar} \\hat{H}_{0} \\tilde{\\rho}\n",
    "$$\n",
    "\n",
    "where $\\tilde{\\rho}$ is a $16 \\times 1$ matrix, $\\hat{H}_{0}$ is a $16 \\times 16$ matrix and has solution $\\tilde{\\rho} (t) = e^{-i \\hat{H}_{0} t} \\tilde{\\rho}(0)$\n",
    "\n",
    "For this let me introduce a small trick: Flat$(A \\rho B)$ = $A \\otimes B^{T}$ Flat($\\rho$). When the function 'Flat()' act on a square matrix, $X_{n\\times n}$ gives $X_{n^{2}\\times 1}$ (please check yourself - I can upload a mathematica file for this). \n",
    "\n",
    "Lets apply this Liouville-von Neumann equation using identity matrix ($\\mathbb{1}$),\n",
    "\n",
    "$$\n",
    "\\frac{d}{dt} \\mathbb{1} \\rho \\mathbb{1} = \\frac{-i}{\\hbar} [H_{0},\\rho] = \\frac{-i}{\\hbar} (H_{0} \\rho \\mathbb{1} - \\mathbb{1} \\rho H_{0})\n",
    "$$\n",
    "\n",
    "then flatten the above equation we get,\n",
    "$$\n",
    "\\frac{d}{dt} \\tilde{\\rho} = \\frac{-i}{\\hbar} (H_{0} \\otimes \\mathbb{1} - \\mathbb{1} \\otimes H_{0}^{T})\\tilde{\\rho}\n",
    "$$\n",
    "\n",
    "where $\\hat{H}_{0} = H_{0} \\otimes \\mathbb{1} - \\mathbb{1} \\otimes H_{0}^{T}$ is called the Hamiltonian commutation superoperator. We call the vector space where $\\rho_{16 \\times 1}$ lies Liouville space"
   ]
  },
  {
   "cell_type": "markdown",
   "id": "d77cc63d",
   "metadata": {},
   "source": [
    "## Some definitions\n",
    "\n",
    "1. let $X$ be a observable (example $H_{0}$, Hamiltonian of the system) in Hilbert sapce\n",
    "\n",
    "\n",
    "2. $\\rho$ is a density matrix (square matrix) which lies in Hilbert space. The basis of this space are {$|\\alpha \\alpha><\\alpha \\alpha|$, $|\\alpha \\alpha><\\alpha \\beta|$, ...}$_{16}$ or {$\\frac{1}{2}E$, $\\frac{1}{\\sqrt{2}}I_{+}$,$\\frac{1}{\\sqrt{2}}S_{+}$,...,$I_{+}S_{+}$}$_{16}$\n",
    "\n",
    "$$\\rho = \\begin{bmatrix} \\rho_{11} & \\rho_{12} & \\rho_{13} &  \\rho_{14} \\\\ \\rho_{21} & \\rho_{22} & \\rho_{23} &  \\rho_{24} \\\\ \\rho_{31} & \\rho_{32} & \\rho_{33} &  \\rho_{34} \\\\ \\rho_{41} & \\rho_{42} & \\rho_{43} &  \\rho_{44} \\end{bmatrix}$$\n",
    "\n",
    "3. $\\tilde{\\rho}$ is a vector (coloumn vector) which lies in Liouville space. \n",
    "\n",
    "$$\\tilde{\\rho} = \\begin{bmatrix} \\rho_{11} \\\\ \\rho_{12} \\\\ \\rho_{13} \\\\  \\rho_{14} \\\\ \\rho_{21} \\\\ \\vdots \\\\ \\rho_{44}\\end{bmatrix}$$\n",
    "\n",
    "4. Relation between $\\rho$ and $\\tilde{\\rho}$ is given by $\\tilde{\\rho}$ = Flat($\\mathbb{1} \\rho \\mathbb{1}$) = Flat($\\rho$)\n",
    "\n",
    "\n",
    "5. Superoperator is a operator when act on a vector ($\\tilde{\\rho}$) in Liouville space gives another vector which also lie in Liouville space.\n",
    "\n",
    "\n",
    "6. Left Superoperator, $\\hat{X_{L}}$ = $X \\otimes \\mathbb{1}$; corresponding to $X \\rho$ in Hilbert space\n",
    "\n",
    "\n",
    "7. Right Superoperator, $\\hat{X_{R}}$ = $\\mathbb{1} \\otimes X^{T}$; corresponding to $\\rho X$ in Hilbert space \n",
    "\n",
    "\n",
    "8. Commutation Superoperator, $\\hat{X}$ = $X \\otimes \\mathbb{1} - \\mathbb{1} \\otimes X^{T}$; corresponding to $[X,\\rho] = X \\rho$ -$\\rho X$ in Hilbert space\n",
    "\n",
    "\n",
    "9. Anti Commutation Superoperator, corresponding to $\\{X,\\rho\\} = X \\rho$ + $\\rho X$ is defiend by $X \\otimes \\mathbb{1} + \\mathbb{1} \\otimes X^{T}$ in Hilbert space\n",
    "\n",
    "\n",
    "10. Double Commutation Superoperator, $\\hat{X}\\hat{Y}$ (matrix multiplication of $\\hat{X}$ and $\\hat{Y}$) corresponding to $[X,[Y,\\rho]]$ in Hilbert space\n",
    "\n",
    "We will make use these concepts below"
   ]
  },
  {
   "cell_type": "markdown",
   "id": "f03e5d3a",
   "metadata": {},
   "source": [
    "## Redfield Master Equation in Hilbert Space\n",
    "\n",
    "I am not going to the depth of the Redfield theory. We consider two spin half particles, $H_{0} = \\omega_{I}I_{z} + \\omega_{S}S_{z}$ is the time independent Hamiltonian of the system and $H_{1} = \\sum_{q = -2}^{2} F_{2}^{q} A_{2}^{q}$ is the stochastic Hamiltonian (dipolar) causing the relaxation, where $F_{2}^{q}$ and $A_{2}^{q}$ are the spatial and spin part of the Hamiltonian. $A_{2}^{q}$ is the 2$^{nd}$ rank spherical tensors with q = -2, -1, 0, 1, 2 and can be written as linear combination of operator basis($O_{i=1-16}$), $A_{2}^{q} = \\sum_{p} A_{2p}^{q} = \\sum_{p} C_{p} O_{p}$. $O_{p}$ satisfies the relation $[H_{0},O_{i}] = \\omega_{i} O_{i}$ where $O_{i}$ and $\\omega_{i}$ eigen vectors and eigen frequencies of commutation superoperator ($\\hat{H}$), $\\hat{H} X = [H,X] = HX-XH$. The Redfield master equation is given by\n",
    "\n",
    "$$\n",
    "\\frac{d}{dt} \\rho = \\frac{-i}{\\hbar} [H_{0},\\rho] + \\sum_{q = -2}^{2} \\sum_{p} S(\\omega_{p}^{q}) [A_{2p}^{q},[(A_{2p}^{q})^{\\dagger},\\rho - \\rho_{eq}]]\n",
    "$$\n",
    "Here density matrix, $\\rho$ is the density matrix and $\\rho_{eq}$ is the equlibrium density matrix. From computation point of view, we can consider $\\rho$, $H_{0}$ and $A_{2p}^{q}$ as $4 \\times 4$ matrices. $S(\\omega)$ is the spectral density function proportional to $$\\frac{2\\tau}{1+\\omega^{2}\\tau^{2}}$$, $\\tau$ is the correlation time.\n",
    "\n",
    "For clarity: \n",
    "\n",
    "1. Zero Quantum, $\\omega^{q=0} = 0$\n",
    "\n",
    "$A_{2}^{0} = \\frac{1}{2 \\sqrt{6}}(4 I_{z}S_{z} - I_{+}S_{-} - I_{-}S_{+})$, where $A_{21}^{0} = \\frac{4}{2 \\sqrt{6}} I_{z}S_{z}$, $A_{22}^{0} = \\frac{-1}{2 \\sqrt{6}}4 I_{+}S_{-}$ and $A_{23}^{0} = \\frac{-1}{2 \\sqrt{6}}4 I_{-}S_{+}$\n",
    "\n",
    "2. Single Quantum  $\\omega^{q=\\pm 1} = \\pm \\omega_{0}$ ($\\omega_{0} = \\omega_{I} \\approx \\omega_{S}$)\n",
    "\n",
    "$A_{2}^{\\pm1} = \\mp\\frac{1}{2} (I_{\\pm}S_{z} + I_{z}S_{\\pm}) $, where $A_{21}^{\\pm1} = \\mp\\frac{1}{2}I_{\\pm}S_{z} $, $A_{22}^{\\pm1} = \\mp\\frac{1}{2}I_{z}S_{\\pm} $\n",
    "\n",
    "3. Double Quantum  $\\omega^{q=\\pm 2} = \\pm 2 \\omega_{0}$\n",
    "\n",
    "$A_{2}^{\\pm2} = \\frac{1}{2} I_{\\pm}S_{\\pm} $, where $A_{21}^{\\pm2} = \\frac{1}{2}I_{\\pm}S_{\\pm} $\n",
    "\n",
    "Please note that this is note the case for hetronuclear."
   ]
  },
  {
   "cell_type": "markdown",
   "id": "71c7857a",
   "metadata": {},
   "source": [
    "## Redfield Master Equation in Liouville Space\n",
    "\n",
    "$$\n",
    "\\frac{d}{dt} \\tilde{\\rho} = \\frac{-i}{\\hbar} (\\hat{H}_{0} + i \\hat{R})\\tilde{\\rho}\n",
    "$$\n",
    "\n",
    "where $\\tilde{\\rho}$ represent vectorized or flattened (coloumn vector) density operator $\\rho$. $\\hat{H}_{0}$ is the Hamiltonian commutation superoperator and $\\hat{R}$ is the relaxation superoperator and defined as:\n",
    "\n",
    "$$\n",
    "\\hat{R} = \\sum_{q = -2}^{2} \\sum_{p} S(\\omega_{p}^{q}) \\hat{A}_{2p}^{q} (\\hat{A}_{2p}^{q})^{\\dagger}\n",
    "$$\n",
    "\n",
    "The solution of the master equation is given by (considering return to equlibrium):\n",
    "\n",
    "$$\n",
    "\\tilde{\\rho} (t) = \\tilde{\\rho}_{eq} + e^{-i(\\hat{H}_{0} + i \\hat{R})}(\\tilde{\\rho}(0)- \\tilde{\\rho}_{eq})\n",
    "$$"
   ]
  },
  {
   "cell_type": "markdown",
   "id": "6f619e1b",
   "metadata": {},
   "source": [
    "## Lindblad Master Equation in Liouville Space\n",
    "\n",
    "$$\n",
    "\\frac{d}{dt} \\tilde{\\rho} = \\frac{-i}{\\hbar} (\\hat{H}_{0} + i \\hat{R_{L}})\\tilde{\\rho}\n",
    "$$\n",
    "\n",
    "where $\\tilde{\\rho}$ represent vectorized or flattened (coloumn vector) density operator $\\rho$. $\\hat{H}_{0}$ is the Hamiltonian commutation superoperator and $\\hat{R_L}$ is the relaxation superoperator and defined as:\n",
    "\n",
    "$$\n",
    "\\hat{R}_{L} = \\sum_{q = -2}^{2} \\sum_{p} S_L(\\omega_{p}^{q}) \\hat{L}_{dis}[A_{2p}^{q}, (A_{2p}^{q})^{\\dagger}]\n",
    "$$\n",
    "\n",
    "The solution of the master equation is given by :\n",
    "\n",
    "$$\n",
    "\\tilde{\\rho} (t) = e^{-i(\\hat{H}_{0} + i \\hat{R}_{L})} \\tilde{\\rho}(0)\n",
    "$$"
   ]
  },
  {
   "cell_type": "markdown",
   "id": "4e50448d",
   "metadata": {},
   "source": [
    "## Lindbladian Dissipator\n",
    "\n",
    "$$\n",
    "\\hat{L}_{dis}[A,B] = A \\otimes B^{T} - \\frac{1}{2} (BA \\otimes \\mathbb{1} + \\mathbb{1} \\otimes A^{T} B^{T})\n",
    "$$\n",
    "\n",
    "Note that here $A$ and $B$ are operator basis of Hilbert space."
   ]
  },
  {
   "cell_type": "markdown",
   "id": "7819305e",
   "metadata": {},
   "source": [
    "## Lindbladian Spectral density function\n",
    "\n",
    "$$\n",
    "S_L(\\omega) = \\frac{6}{5} b_{IS}^{2} \\frac{2\\tau}{1+\\omega^{2}\\tau^{2}} e^{-\\frac{1}{2} \\beta \\hbar \\omega} \n",
    "$$\n",
    "\n",
    "Where $\\beta = 1 / k_{B} T$, inverse spin temperature and $b_{IS}^{2}$ is the dipolar coupling constant."
   ]
  },
  {
   "cell_type": "markdown",
   "id": "f2f7509c",
   "metadata": {},
   "source": [
    "## Any suggestion? write to me\n",
    "If you see something is wrong or need more explanation please write to me. \n",
    "\n",
    "vineethfrancis.physics@gmail.com"
   ]
  }
 ],
 "metadata": {
  "kernelspec": {
   "display_name": "Python 3 (ipykernel)",
   "language": "python",
   "name": "python3"
  },
  "language_info": {
   "codemirror_mode": {
    "name": "ipython",
    "version": 3
   },
   "file_extension": ".py",
   "mimetype": "text/x-python",
   "name": "python",
   "nbconvert_exporter": "python",
   "pygments_lexer": "ipython3",
   "version": "3.9.7"
  }
 },
 "nbformat": 4,
 "nbformat_minor": 5
}
