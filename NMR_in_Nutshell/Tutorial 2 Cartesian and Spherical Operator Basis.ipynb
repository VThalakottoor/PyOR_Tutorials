{
 "cells": [
  {
   "cell_type": "markdown",
   "id": "3154396c",
   "metadata": {},
   "source": [
    "# Python On Resonance (PyOR)\n",
    "## Everybody can simulate NMR\n",
    "\n",
    "Author: Vineeth Thalakottoor \n",
    "\n",
    "Email: vineethfrancis.physics@gmail.com"
   ]
  },
  {
   "cell_type": "markdown",
   "id": "4c8bbdff",
   "metadata": {},
   "source": [
    "## Descriptive Tutorial 2: Cartesian and Spherical Operator Basis\n",
    "In this tutorial we will see the difference between the cartesian and spherical operator basis for **spin half particle**."
   ]
  },
  {
   "cell_type": "markdown",
   "id": "d7da8c58",
   "metadata": {},
   "source": [
    "## Load Python packages and define path to the source file \"PythonOnResonance.py\""
   ]
  },
  {
   "cell_type": "code",
   "execution_count": 39,
   "id": "df753a05",
   "metadata": {},
   "outputs": [],
   "source": [
    "pathSource = '/media/HD2/Vineeth/PostDoc_Simulations/Github/PyOR_v1.0/Source'"
   ]
  },
  {
   "cell_type": "code",
   "execution_count": 40,
   "id": "402e83b0",
   "metadata": {},
   "outputs": [
    {
     "data": {
      "text/html": [
       "<style>.container { width:100% !important; }</style>"
      ],
      "text/plain": [
       "<IPython.core.display.HTML object>"
      ]
     },
     "metadata": {},
     "output_type": "display_data"
    }
   ],
   "source": [
    "from IPython.display import display, HTML\n",
    "display(HTML(\"<style>.container { width:100% !important; }</style>\"))\n",
    "import sys\n",
    "sys.path.append(pathSource)\n",
    "\n",
    "import PythonOnResonance as PyOR\n",
    "\n",
    "import time\n",
    "import numpy as np\n",
    "import matplotlib.pyplot as plt\n",
    "from matplotlib import rc\n",
    "%matplotlib notebook\n",
    "import sympy as sp\n",
    "from sympy import *"
   ]
  },
  {
   "cell_type": "markdown",
   "id": "da8295bc",
   "metadata": {},
   "source": [
    "## Lets define our spin half system"
   ]
  },
  {
   "cell_type": "code",
   "execution_count": 41,
   "id": "2558217d",
   "metadata": {},
   "outputs": [],
   "source": [
    "Slist1 = [1/2]\n",
    "hbarEQ1 = True\n",
    "System = PyOR.Numerical_MR(Slist1,hbarEQ1)"
   ]
  },
  {
   "cell_type": "markdown",
   "id": "e64235a6",
   "metadata": {},
   "source": [
    "## Generating all Spin Operators: $S_{x}$, $S_{y}$, $S_{z}$, $S_{+}$ and $S_{-}$"
   ]
  },
  {
   "cell_type": "code",
   "execution_count": 42,
   "id": "a2f04e11",
   "metadata": {},
   "outputs": [],
   "source": [
    "\"\"\"\n",
    "Generate Spin Operators\n",
    "\"\"\";\n",
    "\n",
    "System = PyOR.Numerical_MR(Slist1,hbarEQ1)\n",
    "\n",
    "\"\"\"\n",
    "Sx, Sy and Sz Operators\n",
    "\"\"\";\n",
    "Sx,Sy,Sz = System.SpinOperator()\n",
    "\n",
    "\"\"\"\n",
    "S+ and S- Operators\n",
    "\"\"\";\n",
    "Sp,Sm = System.PMoperators(Sx,Sy)"
   ]
  },
  {
   "cell_type": "markdown",
   "id": "aca6af47",
   "metadata": {},
   "source": [
    "## Matrix form of $S_{x}$"
   ]
  },
  {
   "cell_type": "code",
   "execution_count": 43,
   "id": "9f1f1ee5",
   "metadata": {},
   "outputs": [
    {
     "data": {
      "text/latex": [
       "$\\displaystyle \\left[\\begin{matrix}0 & 0.5\\\\0.5 & 0\\end{matrix}\\right]$"
      ],
      "text/plain": [
       "Matrix([\n",
       "[  0, 0.5],\n",
       "[0.5,   0]])"
      ]
     },
     "execution_count": 43,
     "metadata": {},
     "output_type": "execute_result"
    }
   ],
   "source": [
    "Matrix(Sx[0])"
   ]
  },
  {
   "cell_type": "markdown",
   "id": "d8197d27",
   "metadata": {},
   "source": [
    "## Matrix form of $S_{y}$"
   ]
  },
  {
   "cell_type": "code",
   "execution_count": 44,
   "id": "7136e331",
   "metadata": {},
   "outputs": [
    {
     "data": {
      "text/latex": [
       "$\\displaystyle \\left[\\begin{matrix}0 & - 0.5 i\\\\0.5 i & 0\\end{matrix}\\right]$"
      ],
      "text/plain": [
       "Matrix([\n",
       "[    0, -0.5*I],\n",
       "[0.5*I,      0]])"
      ]
     },
     "execution_count": 44,
     "metadata": {},
     "output_type": "execute_result"
    }
   ],
   "source": [
    "Matrix(Sy[0])"
   ]
  },
  {
   "cell_type": "markdown",
   "id": "f891a999",
   "metadata": {},
   "source": [
    "## Matrix form of $S_{z}$"
   ]
  },
  {
   "cell_type": "code",
   "execution_count": 45,
   "id": "8fa6fc97",
   "metadata": {},
   "outputs": [
    {
     "data": {
      "text/latex": [
       "$\\displaystyle \\left[\\begin{matrix}0.5 & 0\\\\0 & -0.5\\end{matrix}\\right]$"
      ],
      "text/plain": [
       "Matrix([\n",
       "[0.5,    0],\n",
       "[  0, -0.5]])"
      ]
     },
     "execution_count": 45,
     "metadata": {},
     "output_type": "execute_result"
    }
   ],
   "source": [
    "Matrix(Sz[0])"
   ]
  },
  {
   "cell_type": "markdown",
   "id": "24fdf096",
   "metadata": {},
   "source": [
    "## Matrix form of $S_{+}$"
   ]
  },
  {
   "cell_type": "code",
   "execution_count": 46,
   "id": "56ef532e",
   "metadata": {},
   "outputs": [
    {
     "data": {
      "text/latex": [
       "$\\displaystyle \\left[\\begin{matrix}0 & 1.0\\\\0 & 0\\end{matrix}\\right]$"
      ],
      "text/plain": [
       "Matrix([\n",
       "[0, 1.0],\n",
       "[0,   0]])"
      ]
     },
     "execution_count": 46,
     "metadata": {},
     "output_type": "execute_result"
    }
   ],
   "source": [
    "Matrix(Sp[0])"
   ]
  },
  {
   "cell_type": "markdown",
   "id": "7c02e0e9",
   "metadata": {},
   "source": [
    "## Matrix form of $S_{-}$"
   ]
  },
  {
   "cell_type": "code",
   "execution_count": 47,
   "id": "38b59741",
   "metadata": {},
   "outputs": [
    {
     "data": {
      "text/latex": [
       "$\\displaystyle \\left[\\begin{matrix}0 & 0\\\\1.0 & 0\\end{matrix}\\right]$"
      ],
      "text/plain": [
       "Matrix([\n",
       "[  0, 0],\n",
       "[1.0, 0]])"
      ]
     },
     "execution_count": 47,
     "metadata": {},
     "output_type": "execute_result"
    }
   ],
   "source": [
    "Matrix(Sm[0])"
   ]
  },
  {
   "cell_type": "markdown",
   "id": "bd9117e2",
   "metadata": {},
   "source": [
    "## Ladder Operators:$S_{+}$ (Raising operator) and $S_{-}$ (Lowering operator)\n",
    "**(Attention!! Not to confuse with spin operators in spherical basis $\\tilde{S}_{+}$ and $\\tilde{S}_{-}$ in coming section)**\n",
    "\n",
    "$S_{+}$ = $S_{x}$ + i $S_{y}$\n",
    "\n",
    "$S_{-}$ = $S_{x}$ - i $S_{y}$\n",
    "\n",
    "For a particle with spin quantum number, $\\boldsymbol{j}$ and corresponding magnetic quantum number $\\boldsymbol{m}$ = $\\boldsymbol{-j}$ to $\\boldsymbol{j}$\n",
    "\n",
    "$S_{+}|j,m> = \\hbar \\sqrt{j(j+1) - m(m+1)}|j,m+1>$\n",
    "\n",
    "$S_{-}|j,m> = \\hbar \\sqrt{j(j+1) - m(m-1)}|j,m-1>$\n",
    "\n",
    "$S_{+}|j,j> = 0$\n",
    "\n",
    "$S_{-}|j,-j> = 0$"
   ]
  },
  {
   "cell_type": "markdown",
   "id": "17e651c1",
   "metadata": {},
   "source": [
    "## Cartesian Operator Basis $C_{op,i}$ (Orthonormal, inner product of $C_{op,i}$ and $C_{op,j}$ equals $\\delta_{i,j}$)\n",
    "$C_{op}$ = {$\\frac{1}{\\sqrt{2}}E$, $\\sqrt{2} S_{x}$, $\\sqrt{2} S_{y}$ and $\\sqrt{2} S_{z}$}"
   ]
  },
  {
   "cell_type": "code",
   "execution_count": 48,
   "id": "f271cd15",
   "metadata": {},
   "outputs": [
    {
     "name": "stdout",
     "output_type": "stream",
     "text": [
      "Inner product of Cop_1 and Cop_1 =  0.9999999999999998\n",
      "Inner product of Cop_1 and Cop_2 =  0.0\n",
      "Inner product of Cop_2 and Cop_2 =  1.0000000000000002\n",
      "Inner product of Cop_2 and Cop_3 =  0.0\n",
      "Inner product of Cop_3 and Cop_3 =  1.0000000000000002\n",
      "Inner product of Cop_4 and Cop_4 =  1.0000000000000002\n",
      "So on ...\n"
     ]
    }
   ],
   "source": [
    "\"\"\"\n",
    "Orthonormality Check\n",
    "\"\"\";\n",
    "Cop_1 = np.eye(2)/np.sqrt(2) \n",
    "Cop_2 = np.sqrt(2) * Sx[0]\n",
    "Cop_3 = np.sqrt(2) * Sy[0]\n",
    "Cop_4 = np.sqrt(2) * Sz[0]\n",
    "print(\"Inner product of Cop_1 and Cop_1 = \", System.OP_InnerProduct(Cop_1,Cop_1).real)\n",
    "print(\"Inner product of Cop_1 and Cop_2 = \", System.OP_InnerProduct(Cop_1,Cop_2).real)\n",
    "print(\"Inner product of Cop_2 and Cop_2 = \", System.OP_InnerProduct(Cop_2,Cop_2).real)\n",
    "print(\"Inner product of Cop_2 and Cop_3 = \", System.OP_InnerProduct(Cop_2,Cop_3).real)\n",
    "print(\"Inner product of Cop_3 and Cop_3 = \", System.OP_InnerProduct(Cop_3,Cop_3).real)\n",
    "print(\"Inner product of Cop_4 and Cop_4 = \", System.OP_InnerProduct(Cop_4,Cop_4).real)\n",
    "print(\"So on ...\")"
   ]
  },
  {
   "cell_type": "markdown",
   "id": "439f80c4",
   "metadata": {},
   "source": [
    "## Spherical (tensor) Operator Basis $T_{op,i}$ (Orthonormal)\n",
    "\n",
    "$T_{op}$ = {$T_{0}^{0} (=\\frac{1}{\\sqrt{2}}E)$, $T_{-1}^{1}$, $T_{0}^{1}$ and $T_{+1}^{1}$}"
   ]
  },
  {
   "cell_type": "markdown",
   "id": "d4139ba3",
   "metadata": {},
   "source": [
    "## Generating Spherical (tensor) operators basis"
   ]
  },
  {
   "cell_type": "code",
   "execution_count": 49,
   "id": "ba46a819",
   "metadata": {},
   "outputs": [
    {
     "name": "stdout",
     "output_type": "stream",
     "text": [
      "Coherence Order:  [0, -1, 0, 1]\n",
      "LM state:  [(0, 0), (1, -1), (1, 0), (1, 1)]\n"
     ]
    }
   ],
   "source": [
    "\"\"\"\n",
    "Spherical Operator Basis for single spin half particle\n",
    "let S = 1/2\n",
    "\"\"\";\n",
    "\n",
    "Tph_basis_half, Coherence_order, LM_state = System.Spherical_OpBasis(1/2)\n",
    "Top_00 = Tph_basis_half[0]\n",
    "Top_1m = Tph_basis_half[1]\n",
    "Top_10 = Tph_basis_half[2]\n",
    "Top_1p = Tph_basis_half[3]"
   ]
  },
  {
   "cell_type": "markdown",
   "id": "df2bc7f3",
   "metadata": {},
   "source": [
    "## Matrix form of $\\frac{1}{\\sqrt{2}}E$ (E is identity matrix)"
   ]
  },
  {
   "cell_type": "code",
   "execution_count": 50,
   "id": "d91f0a5d",
   "metadata": {},
   "outputs": [
    {
     "data": {
      "text/latex": [
       "$\\displaystyle \\left[\\begin{matrix}0.707106781186548 & 0\\\\0 & 0.707106781186548\\end{matrix}\\right]$"
      ],
      "text/plain": [
       "Matrix([\n",
       "[0.707106781186548,                 0],\n",
       "[                0, 0.707106781186548]])"
      ]
     },
     "execution_count": 50,
     "metadata": {},
     "output_type": "execute_result"
    }
   ],
   "source": [
    "Matrix(Top_00)"
   ]
  },
  {
   "cell_type": "code",
   "execution_count": 51,
   "id": "ba7942a8",
   "metadata": {},
   "outputs": [
    {
     "name": "stdout",
     "output_type": "stream",
     "text": [
      "Inner product of Top_00 and Top_00 =  1.0000000000000002\n"
     ]
    }
   ],
   "source": [
    "\"\"\"\n",
    "Normalization Check\n",
    "\"\"\";\n",
    "print(\"Inner product of Top_00 and Top_00 = \", System.OP_InnerProduct(Top_00,Top_00).real)"
   ]
  },
  {
   "cell_type": "markdown",
   "id": "6b788471",
   "metadata": {},
   "source": [
    "## Matrix form of $T_{-1}^{1}$"
   ]
  },
  {
   "cell_type": "code",
   "execution_count": 52,
   "id": "810e6638",
   "metadata": {},
   "outputs": [
    {
     "data": {
      "text/latex": [
       "$\\displaystyle \\left[\\begin{matrix}0 & 0\\\\1.0 & 0\\end{matrix}\\right]$"
      ],
      "text/plain": [
       "Matrix([\n",
       "[  0, 0],\n",
       "[1.0, 0]])"
      ]
     },
     "execution_count": 52,
     "metadata": {},
     "output_type": "execute_result"
    }
   ],
   "source": [
    "Matrix(Top_1m)"
   ]
  },
  {
   "cell_type": "code",
   "execution_count": 53,
   "id": "41ad3776",
   "metadata": {},
   "outputs": [
    {
     "name": "stdout",
     "output_type": "stream",
     "text": [
      "Inner product of Top_1m and Top_1m =  0.9999999999999998\n"
     ]
    }
   ],
   "source": [
    "\"\"\"\n",
    "Normalization Check\n",
    "\"\"\";\n",
    "print(\"Inner product of Top_1m and Top_1m = \", System.OP_InnerProduct(Top_1m,Top_1m).real)"
   ]
  },
  {
   "cell_type": "markdown",
   "id": "322602a3",
   "metadata": {},
   "source": [
    "## Matrix form of $T_{0}^{1}$"
   ]
  },
  {
   "cell_type": "code",
   "execution_count": 54,
   "id": "6506b4a0",
   "metadata": {},
   "outputs": [
    {
     "data": {
      "text/latex": [
       "$\\displaystyle \\left[\\begin{matrix}0.707106781186547 & 0\\\\0 & -0.707106781186547\\end{matrix}\\right]$"
      ],
      "text/plain": [
       "Matrix([\n",
       "[0.707106781186547,                  0],\n",
       "[                0, -0.707106781186547]])"
      ]
     },
     "execution_count": 54,
     "metadata": {},
     "output_type": "execute_result"
    }
   ],
   "source": [
    "Matrix(Top_10)"
   ]
  },
  {
   "cell_type": "code",
   "execution_count": 55,
   "id": "d2556440",
   "metadata": {},
   "outputs": [
    {
     "name": "stdout",
     "output_type": "stream",
     "text": [
      "Inner product of Top_10 and Top_10 =  0.9999999999999998\n"
     ]
    }
   ],
   "source": [
    "\"\"\"\n",
    "Normalization Check\n",
    "\"\"\";\n",
    "print(\"Inner product of Top_10 and Top_10 = \", System.OP_InnerProduct(Top_10,Top_10).real)"
   ]
  },
  {
   "cell_type": "markdown",
   "id": "bb337ae0",
   "metadata": {},
   "source": [
    "## Matrix form of $T_{+1}^{1}$"
   ]
  },
  {
   "cell_type": "code",
   "execution_count": 56,
   "id": "4d0ed0f1",
   "metadata": {},
   "outputs": [
    {
     "data": {
      "text/latex": [
       "$\\displaystyle \\left[\\begin{matrix}0 & -1.0\\\\0 & 0\\end{matrix}\\right]$"
      ],
      "text/plain": [
       "Matrix([\n",
       "[0, -1.0],\n",
       "[0,    0]])"
      ]
     },
     "execution_count": 56,
     "metadata": {},
     "output_type": "execute_result"
    }
   ],
   "source": [
    "Matrix(Top_1p)"
   ]
  },
  {
   "cell_type": "code",
   "execution_count": 57,
   "id": "0f807ba9",
   "metadata": {},
   "outputs": [
    {
     "name": "stdout",
     "output_type": "stream",
     "text": [
      "Inner product of Top_1p and Top_1p =  0.9999999999999998\n"
     ]
    }
   ],
   "source": [
    "\"\"\"\n",
    "Normalization Check\n",
    "\"\"\";\n",
    "print(\"Inner product of Top_1p and Top_1p = \", System.OP_InnerProduct(Top_1p,Top_1p).real)"
   ]
  },
  {
   "cell_type": "markdown",
   "id": "b1ab019b",
   "metadata": {},
   "source": [
    "## Relation between Spin Operators in Spherical basis ($\\tilde{S}_{-1}$, $\\tilde{S}_{0}$ and $\\tilde{S}_{+1}$) and Catesian basis $S_{x}$, $S_{y}$, and $S_{z}$\n",
    "\n",
    "$\\tilde{S}_{+1} = -\\frac{1}{\\sqrt{2}} (S_{x} + i S_{y}) = -\\frac{1}{\\sqrt{2}} S_{+}$\n",
    "\n",
    "$\\tilde{S}_{0} = S_{z}$\n",
    "\n",
    "$\\tilde{S}_{-1} = \\frac{1}{\\sqrt{2}} (S_{x} - i S_{y}) = \\frac{1}{\\sqrt{2}} S_{-}$\n",
    "\n",
    "\n",
    "\n",
    "**Some Properties:**\n",
    "\n",
    "1. Spherical tensor operator (normalized) basis, $T_{q}^{k}(s)$ (where, $s$ is the spin quantum number, $k=0,1,\\dots,2s$; $q=-k,-k+1,\\dots,k-1,k$) are $(2s+1)\\times(2s+1)$ matrices and irreducible tensors of rank, $k$.\n",
    "\n",
    "2. $(T_{q}^{k})^{\\dagger} = (-1)^{q} T_{-q}^{k}$ \n",
    "\n",
    "3. $T_{0}^{0}(s) = \\frac{1}{\\sqrt{2s+1}} E$, where $E$ is identity matrix of dimension $(2s+1)\\times(2s+1)$\n",
    "\n",
    "    For spin half particle:\n",
    "    \n",
    "    $T_{0}^{0} = \\frac{1}{\\sqrt{2}} E$\n",
    "\n",
    "4. $T_{q}^{1}(s) = \\frac{\\sqrt{3}}{\\sqrt{s(s+1)(2s+1)}} \\tilde{S}_{q}$, where $q = 1,0,-1$ and $\\tilde{S}_{q}$ is the spin operators in spherical basis.\n",
    "\n",
    "    For spin half particle:\n",
    "\n",
    "    $T_{+1}^{1} = \\sqrt{2} \\tilde{S}_{+1}$\n",
    "\n",
    "    $T_{0}^{1} = \\sqrt{2} \\tilde{S}_{0}$\n",
    "\n",
    "    $T_{-1}^{1} = \\sqrt{2} \\tilde{S}_{-1}$\n",
    "    \n",
    "5. $T_{q}^{k}$ is invarient under coordinate inversion ($\\vec{r} \\rightarrow -\\vec{r}$)    \n",
    "\n",
    "6. Transformation under rotation of coordiante system\n",
    "\n",
    "    $T_{q^{'}}^{'k} = \\sum_{q} D_{qq^{'}}^{k}(\\alpha, \\beta, \\gamma)T_{q}^{k}$, where $\\alpha, \\beta, \\gamma$ are Euler angles and $D_{qq^{'}}^{k}$ are Wigner D-functions.\n",
    "    \n",
    "7. An arbitrary square matrix of dimension $(2s+1)\\times(2s+1)$, $A$ can be written as linear combination of spherical tensor operators:\n",
    "\n",
    "    $A = \\sum_{k=0}^{2s} \\sum_{q=-k}^{k} a_{q}^{k} T_{q}^{k}$, where $a_{q}^{k} = Tr[(T_{q}^{k})^{\\dagger} A]$\n",
    "    \n",
    "## PyOR can create spherical operator basis for particle with any spin qunatum number, $s$.  \n",
    "\n",
    "Look programming tutorial 16 (part 1 and 2 )"
   ]
  },
  {
   "cell_type": "markdown",
   "id": "61a9ed28",
   "metadata": {},
   "source": [
    "## Any suggestion? write to me\n",
    "If you see something is wrong please write to me, so that the PyOR can be error free. \n",
    "\n",
    "vineethfrancis.physics@gmail.com"
   ]
  }
 ],
 "metadata": {
  "kernelspec": {
   "display_name": "Python 3 (ipykernel)",
   "language": "python",
   "name": "python3"
  },
  "language_info": {
   "codemirror_mode": {
    "name": "ipython",
    "version": 3
   },
   "file_extension": ".py",
   "mimetype": "text/x-python",
   "name": "python",
   "nbconvert_exporter": "python",
   "pygments_lexer": "ipython3",
   "version": "3.9.7"
  }
 },
 "nbformat": 4,
 "nbformat_minor": 5
}
